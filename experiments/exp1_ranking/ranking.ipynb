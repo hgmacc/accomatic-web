{
 "cells": [
  {
   "cell_type": "code",
   "execution_count": 1,
   "metadata": {},
   "outputs": [],
   "source": [
    "import sys\n",
    "sys.path.append(\"../../\") \n",
    "\n",
    "from accomatic.Experiment import Experiment\n",
    "from accomatic.Stats import build\n",
    "\n",
    "import pandas as pd\n"
   ]
  },
  {
   "cell_type": "markdown",
   "metadata": {},
   "source": [
    "## Create Experiment\n",
    "    1. Initialize\n",
    "    2. Bootstrap analysis\n",
    "    3. Concatonate to a df. "
   ]
  },
  {
   "cell_type": "code",
   "execution_count": 3,
   "metadata": {},
   "outputs": [
    {
     "name": "stdout",
     "output_type": "stream",
     "text": [
      "Observations: 61 sites at 0.1m depth.\n",
      "Building 10 bootstrap; 0 missing data ...\n",
      "Build complete for n=10: 0.01s to run.\n",
      "Concatonating to df...\n",
      "Concatonation complete.\n"
     ]
    }
   ],
   "source": [
    "exp = Experiment(\"/home/hma000/accomatic-web/data/toml/run.toml\")\n",
    "build(exp)"
   ]
  },
  {
   "cell_type": "markdown",
   "metadata": {},
   "source": [
    "# Spider Plot"
   ]
  },
  {
   "cell_type": "code",
   "execution_count": null,
   "metadata": {},
   "outputs": [
    {
     "ename": "ModuleNotFoundError",
     "evalue": "No module named 'plotting'",
     "output_type": "error",
     "traceback": [
      "\u001b[0;31m---------------------------------------------------------------------------\u001b[0m",
      "\u001b[0;31mModuleNotFoundError\u001b[0m                       Traceback (most recent call last)",
      "\u001b[1;32m/home/hma000/accomatic-web/Experiments/exp1_ranking/ranking.ipynb Cell 5\u001b[0m line \u001b[0;36m1\n\u001b[0;32m----> <a href='vscode-notebook-cell://ssh-remote%2Btalik/home/hma000/accomatic-web/Experiments/exp1_ranking/ranking.ipynb#X10sdnNjb2RlLXJlbW90ZQ%3D%3D?line=0'>1</a>\u001b[0m \u001b[39mfrom\u001b[39;00m \u001b[39mplotting\u001b[39;00m\u001b[39m.\u001b[39;00m\u001b[39mspiderplot\u001b[39;00m \u001b[39mimport\u001b[39;00m \u001b[39m*\u001b[39m\n\u001b[1;32m      <a href='vscode-notebook-cell://ssh-remote%2Btalik/home/hma000/accomatic-web/Experiments/exp1_ranking/ranking.ipynb#X10sdnNjb2RlLXJlbW90ZQ%3D%3D?line=1'>2</a>\u001b[0m fig \u001b[39m=\u001b[39m spiderplot(exp)\n\u001b[1;32m      <a href='vscode-notebook-cell://ssh-remote%2Btalik/home/hma000/accomatic-web/Experiments/exp1_ranking/ranking.ipynb#X10sdnNjb2RlLXJlbW90ZQ%3D%3D?line=2'>3</a>\u001b[0m plt\u001b[39m.\u001b[39mshow()\n",
      "\u001b[0;31mModuleNotFoundError\u001b[0m: No module named 'plotting'"
     ]
    }
   ],
   "source": [
    "from plotting.spiderplot import *\n",
    "fig = spiderplot(exp)\n",
    "plt.show()"
   ]
  }
 ],
 "metadata": {
  "kernelspec": {
   "display_name": "acco",
   "language": "python",
   "name": "python3"
  },
  "language_info": {
   "codemirror_mode": {
    "name": "ipython",
    "version": 3
   },
   "file_extension": ".py",
   "mimetype": "text/x-python",
   "name": "python",
   "nbconvert_exporter": "python",
   "pygments_lexer": "ipython3",
   "version": "3.9.17"
  }
 },
 "nbformat": 4,
 "nbformat_minor": 2
}
