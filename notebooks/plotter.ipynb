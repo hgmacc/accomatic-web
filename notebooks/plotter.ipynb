{
 "cells": [
  {
   "cell_type": "markdown",
   "metadata": {},
   "source": [
    "## Here is where plotting functions are kept. First, let's import. "
   ]
  },
  {
   "cell_type": "code",
   "execution_count": 2,
   "metadata": {},
   "outputs": [],
   "source": [
    "import sys\n",
    "import typing\n",
    "from os import path\n",
    "import re\n",
    "from datetime import datetime, timedelta\n",
    "\n",
    "import matplotlib.dates as mdates\n",
    "import matplotlib.pyplot as plt\n",
    "import numpy as np\n",
    "import pandas as pd\n",
    "from netCDF4 import Dataset, date2num, num2date\n",
    "import xarray as xr\n",
    "import sklearn "
   ]
  },
  {
   "cell_type": "markdown",
   "metadata": {},
   "source": [
    "## First plot function for a single site (specified by site_index)"
   ]
  },
  {
   "cell_type": "code",
   "execution_count": 3,
   "metadata": {},
   "outputs": [],
   "source": [
    "\n",
    "def plot(m_nc, o_nc, site_index: int):\n",
    "    \"\"\"\n",
    "    This function plots simulated vs observed temperatures.\n",
    "    Plot is clipped to obs time extent.\n",
    "\n",
    "    :param m_nc: netCDF4._netCDF4.Dataset of simulated temperature\n",
    "    :param o_nc: netCDF4._netCDF4.Dataset of observations\n",
    "    :param site_index: index of site you'd like to plot\n",
    "    \"\"\"\n",
    "\n",
    "    # Get temp\n",
    "    m_temp = m_nc[\"Tg\"]\n",
    "    o_temp = o_nc[\"soil_temperature\"]\n",
    "\n",
    "    # Get time\n",
    "    m_time = m_nc[\"Date\"]\n",
    "    o_time = o_nc[\"time\"]\n",
    "\n",
    "    ref = date2num(\n",
    "        datetime(1970, 1, 1, 0, 0, 0), units=m_time.units, calendar=\"standard\"\n",
    "    )\n",
    "\n",
    "    start, end = o_time[0], o_time[-1]\n",
    "    m_time = m_time - ref\n",
    "    time_select = np.logical_and(m_time[:] > start, m_time[:] < end)\n",
    "\n",
    "    data = m_temp[site_index, time_select, 1]\n",
    "\n",
    "    plt.plot(mdates.num2date(m_time[time_select]), data[:], label='Model')\n",
    "    plt.plot(mdates.num2date(o_time[:]), o_temp[site_index], label='Observations')\n",
    "    plt.legend()\n",
    "    plt.show()"
   ]
  }
 ],
 "metadata": {
  "kernelspec": {
   "display_name": "Python 3.9.12 ('acco')",
   "language": "python",
   "name": "python3"
  },
  "language_info": {
   "codemirror_mode": {
    "name": "ipython",
    "version": 3
   },
   "file_extension": ".py",
   "mimetype": "text/x-python",
   "name": "python",
   "nbconvert_exporter": "python",
   "pygments_lexer": "ipython3",
   "version": "3.9.12"
  },
  "orig_nbformat": 4,
  "vscode": {
   "interpreter": {
    "hash": "e9e928bd9c9cdfa6955013c6d6fb96ecda3bfe94793204372f8e3f5041cbdff3"
   }
  }
 },
 "nbformat": 4,
 "nbformat_minor": 2
}
