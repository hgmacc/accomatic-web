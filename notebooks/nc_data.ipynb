{
 "cells": [
  {
   "cell_type": "markdown",
   "metadata": {},
   "source": [
    "# Let's read in our data and take a look at which variables we have.\n"
   ]
  },
  {
   "cell_type": "code",
   "execution_count": 3,
   "metadata": {
    "pycharm": {
     "is_executing": true
    }
   },
   "outputs": [
    {
     "name": "stdout",
     "output_type": "stream",
     "text": [
      "dict_keys(['soil_depth', 'Date', 'simulation', 'pointid', 'sitename', 'model', 'Tg'])\n"
     ]
    }
   ],
   "source": [
    "from netCDF4 import Dataset\n",
    "import matplotlib.dates as mdates\n",
    "\n",
    "try: ncfile.close()\n",
    "except: print(\"it wasn't open\"); pass\n",
    "\n",
    "ncfile = Dataset('../tests/test_data/test_mod_dir/test_append.nc', mode='r+')\n",
    "f = ncfile.groups['geotop'] # Pick model group\n",
    "print(f.variables.keys())"
   ]
  },
  {
   "cell_type": "markdown",
   "metadata": {},
   "source": [
    "# Now pull out variables & explore their dimensions and shape."
   ]
  },
  {
   "cell_type": "code",
   "execution_count": 28,
   "metadata": {
    "pycharm": {
     "name": "#%%\n"
    }
   },
   "outputs": [
    {
     "name": "stdout",
     "output_type": "stream",
     "text": [
      "The temperature variable shape: (12, 280504, 5) and dimensions: ('simulation', 'time', 'soil_depth')\n",
      "The time variable shape: (280504,) and dimensions: ('time',)\n"
     ]
    }
   ],
   "source": [
    "temp = f['Tg']\n",
    "time = f['Date']\n",
    "\n",
    "print('The temperature variable shape: %s and dimensions: %s' % (temp.shape, temp.dimensions))\n",
    "print('The time variable shape: %s and dimensions: %s' % (time.shape, time.dimensions))"
   ]
  },
  {
   "cell_type": "markdown",
   "metadata": {},
   "source": [
    "# Right now temp and time are _variables_ If we want to actually access this data, we use \"[]\":"
   ]
  },
  {
   "cell_type": "code",
   "execution_count": 29,
   "metadata": {
    "pycharm": {
     "name": "#%%\n"
    }
   },
   "outputs": [
    {
     "name": "stdout",
     "output_type": "stream",
     "text": [
      "Temp data looks like: -26.921635 (Units: degree_Celcius)\n",
      "Our time data is from 726469.0833333334 to 738156.7083333334\n"
     ]
    }
   ],
   "source": [
    "print(\"Temp data looks like: %s (Units: %s)\" % (temp[0,0,0], temp.units)) # Simulation_index = 0, depth_index = 0\n",
    "print('Our time data is from %s to %s' % (time[0], time[-1]))"
   ]
  },
  {
   "cell_type": "markdown",
   "metadata": {},
   "source": [
    "# What is the time extent of our data? How can we reformat this ugly bs?"
   ]
  },
  {
   "cell_type": "code",
   "execution_count": 30,
   "metadata": {
    "pycharm": {
     "name": "#%%\n"
    }
   },
   "outputs": [
    {
     "name": "stdout",
     "output_type": "stream",
     "text": [
      "Or, in other words: 1990-01-01 02:00:00 to 1990-01-01 03:00:00\n"
     ]
    }
   ],
   "source": [
    "from netCDF4 import num2date\n",
    "\n",
    "start, end = [date.strftime('%Y-%m-%d %H:%M:%S') for date in num2date(time[:2], time.units)]\n",
    "print('Or, in other words: %s to %s' % (start, end))"
   ]
  },
  {
   "cell_type": "markdown",
   "metadata": {},
   "source": [
    "# How can I plot this? Let's say, temperature at 0.1m depth in 1991."
   ]
  },
  {
   "cell_type": "markdown",
   "metadata": {},
   "source": [
    "First, we have to pick out our desired time extent."
   ]
  },
  {
   "cell_type": "code",
   "execution_count": 31,
   "metadata": {
    "pycharm": {
     "name": "#%%\n"
    }
   },
   "outputs": [
    {
     "name": "stdout",
     "output_type": "stream",
     "text": [
      "1970-01-01T00:00:00\n"
     ]
    }
   ],
   "source": [
    "from datetime import datetime\n",
    "import numpy as np\n",
    "\n",
    "year = 1991\n",
    "#mdates.set_epoch('0001-01-01T00:00')\n",
    "print(mdates.get_epoch())\n",
    "#if mdates.get_epoch() != '0001-01-01T00:00': mdates.set_epoch('0001-01-01T00:00')"
   ]
  },
  {
   "cell_type": "markdown",
   "metadata": {},
   "source": [
    "# Nice! Now, time to plot 1991 temp data."
   ]
  },
  {
   "cell_type": "code",
   "execution_count": 32,
   "metadata": {
    "pycharm": {
     "name": "#%%\n"
    }
   },
   "outputs": [
    {
     "data": {
      "image/png": "[encoded data removed]",
      "text/plain": [
       "<Figure size 432x288 with 1 Axes>"
      ]
     },
     "metadata": {
      "needs_background": "light"
     },
     "output_type": "display_data"
    }
   ],
   "source": [
    "import matplotlib.pyplot as plt\n",
    "\n",
    "start = (datetime(year, 1, 1, 0, 0, 0) - datetime(1, 1, 1, 0, 0, 0)).total_seconds() / 86400\n",
    "end = (datetime(year, 12, 31, 23, 0, 0) - datetime(1, 1, 1, 0, 0, 0)).total_seconds() / 86400\n",
    "time_select = np.logical_and(time[:] > start, time[:] < end)\n",
    "\n",
    "data = temp[0, time_select, 0] # data = temp[simulation_index, time_select, depth_index]\n",
    "plt.title(\"%s Ground temperature data at KDI site\" % year)\n",
    "plt.plot(mdates.num2date(time[time_select]), data[:])\n",
    "plt.show()"
   ]
  },
  {
   "cell_type": "markdown",
   "metadata": {},
   "source": [
    "What if we want to add a new variable to our dataset?\n",
    "open a new dataset"
   ]
  },
  {
   "cell_type": "code",
   "execution_count": 33,
   "metadata": {
    "pycharm": {
     "name": "#%%\n"
    }
   },
   "outputs": [
    {
     "ename": "IndexError",
     "evalue": "acco not found in /",
     "output_type": "error",
     "traceback": [
      "\u001B[0;31m---------------------------------------------------------------------------\u001B[0m",
      "\u001B[0;31mIndexError\u001B[0m                                Traceback (most recent call last)",
      "Input \u001B[0;32mIn [33]\u001B[0m, in \u001B[0;36m<cell line: 7>\u001B[0;34m()\u001B[0m\n\u001B[1;32m      1\u001B[0m \u001B[38;5;66;03m# .nc file has groups of simulations -> each group has data for each site\u001B[39;00m\n\u001B[1;32m      2\u001B[0m \u001B[38;5;66;03m# geotop_merra: site1, site2, site3\u001B[39;00m\n\u001B[1;32m      3\u001B[0m \u001B[38;5;66;03m# geotop_jra: site1, site2, site3\u001B[39;00m\n\u001B[1;32m      4\u001B[0m \u001B[38;5;66;03m# geotop_erai: site1, site2, site3\u001B[39;00m\n\u001B[1;32m      5\u001B[0m \u001B[38;5;66;03m# acco: site1, site2, site3\u001B[39;00m\n\u001B[0;32m----> 7\u001B[0m acco \u001B[38;5;241m=\u001B[39m \u001B[43mncfile\u001B[49m\u001B[43m[\u001B[49m\u001B[38;5;124;43m'\u001B[39;49m\u001B[38;5;124;43macco\u001B[39;49m\u001B[38;5;124;43m'\u001B[39;49m\u001B[43m]\u001B[49m\n\u001B[1;32m      8\u001B[0m \u001B[38;5;28;01mif\u001B[39;00m \u001B[38;5;124m'\u001B[39m\u001B[38;5;124mnchars\u001B[39m\u001B[38;5;124m'\u001B[39m \u001B[38;5;129;01mnot\u001B[39;00m \u001B[38;5;129;01min\u001B[39;00m acco\u001B[38;5;241m.\u001B[39mdimensions\u001B[38;5;241m.\u001B[39mkeys():\n\u001B[1;32m      9\u001B[0m     acco\u001B[38;5;241m.\u001B[39mcreateDimension(\u001B[38;5;124m'\u001B[39m\u001B[38;5;124mnchars\u001B[39m\u001B[38;5;124m'\u001B[39m, f\u001B[38;5;241m.\u001B[39mdimensions[\u001B[38;5;124m'\u001B[39m\u001B[38;5;124mnchars\u001B[39m\u001B[38;5;124m'\u001B[39m]\u001B[38;5;241m.\u001B[39msize)\n",
      "File \u001B[0;32msrc/netCDF4/_netCDF4.pyx:2363\u001B[0m, in \u001B[0;36mnetCDF4._netCDF4.Dataset.__getitem__\u001B[0;34m()\u001B[0m\n",
      "\u001B[0;31mIndexError\u001B[0m: acco not found in /"
     ]
    }
   ],
   "source": [
    "# .nc file has groups of simulations -> each group has data for each site\n",
    "# geotop_merra: site1, site2, site3\n",
    "# geotop_jra: site1, site2, site3\n",
    "# geotop_erai: site1, site2, site3\n",
    "# acco: site1, site2, site3\n",
    "\n",
    "acco = ncfile['acco']\n",
    "if 'nchars' not in acco.dimensions.keys():\n",
    "    acco.createDimension('nchars', f.dimensions['nchars'].size)\n",
    "\n",
    "if 'simulation' not in acco.dimensions.keys():\n",
    "    acco.createDimension('simulation', f.dimensions['simulation'].size)\n",
    "\n",
    "if 'simulation' not in acco.variables.keys():\n",
    "    acco.createVariable('simulation', f.variables['simulation'].datatype, f.variables['simulation'].dimensions)\n",
    "    acco.variables['simulation'] = f.variables['simulation']\n",
    "\n",
    "if 'time' not in acco.dimensions.keys():\n",
    "    acco.createDimension('time', f.dimensions['time'].size)\n",
    "\n",
    "if 'Date' not in acco.variables.keys():\n",
    "    acco.createVariable('Date', f.variables['Date'].datatype, f.variables['Date'].dimensions)\n",
    "    acco.variables['Date'] = f.variables['Date']"
   ]
  },
  {
   "cell_type": "code",
   "execution_count": 26,
   "metadata": {
    "pycharm": {
     "name": "#%%\n"
    }
   },
   "outputs": [],
   "source": [
    "ncfile.close()"
   ]
  },
  {
   "cell_type": "code",
   "execution_count": null,
   "metadata": {},
   "outputs": [],
   "source": []
  }
 ],
 "metadata": {
  "kernelspec": {
   "display_name": "Python 3 (ipykernel)",
   "language": "python",
   "name": "python3"
  },
  "language_info": {
   "codemirror_mode": {
    "name": "ipython",
    "version": 3
   },
   "file_extension": ".py",
   "mimetype": "text/x-python",
   "name": "python",
   "nbconvert_exporter": "python",
   "pygments_lexer": "ipython3",
   "version": "3.10.2"
  }
 },
 "nbformat": 4,
 "nbformat_minor": 1
}