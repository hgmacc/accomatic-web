{
 "cells": [
  {
   "cell_type": "markdown",
   "metadata": {},
   "source": [
    "# Let's read in our data and take a look at which variables we have.\n"
   ]
  },
  {
   "cell_type": "code",
   "execution_count": 1,
   "metadata": {
    "pycharm": {
     "is_executing": true
    }
   },
   "outputs": [
    {
     "name": "stdout",
     "output_type": "stream",
     "text": [
      "dict_keys(['time', 'station', 'latitude', 'longitude', 'height', 'crs', 'station_name', 'PRESS_pl', 'AIRT_pl', 'AIRT_sur', 'PREC_sur', 'RH_sur', 'WSPD_sur', 'WDIR_sur', 'SW_sur', 'LW_sur', 'SH_sur'])\n"
     ]
    }
   ],
   "source": [
    "from netCDF4 import Dataset\n",
    "import matplotlib.dates as mdates\n",
    "import pandas as pd\n",
    "\n",
    "f = Dataset('/fs/yedoma/usr-storage/hma000/KDI/talikForcing/scaled_era5_1h_scf1.5.nc')\n",
    "print(f.variables.keys())"
   ]
  },
  {
   "cell_type": "markdown",
   "metadata": {},
   "source": [
    "# Now pull out variables & explore their dimensions and shape."
   ]
  },
  {
   "cell_type": "code",
   "execution_count": 3,
   "metadata": {
    "pycharm": {
     "name": "#%%\n"
    }
   },
   "outputs": [
    {
     "name": "stdout",
     "output_type": "stream",
     "text": [
      "The temperature variable shape: (124200, 23) and dimensions: ('time', 'station')\n",
      "The time variable shape: (124200,) and dimensions: ('time',)\n"
     ]
    }
   ],
   "source": [
    "temp = f['AIRT_sur']\n",
    "time = f['time']\n",
    "\n",
    "print('The temperature variable shape: %s and dimensions: %s' % (temp.shape, temp.dimensions))\n",
    "print('The time variable shape: %s and dimensions: %s' % (time.shape, time.dimensions))"
   ]
  },
  {
   "cell_type": "markdown",
   "metadata": {},
   "source": [
    "# Right now temp and time are _variables_ If we want to actually access this data, we use \"[]\":"
   ]
  },
  {
   "cell_type": "code",
   "execution_count": 5,
   "metadata": {
    "pycharm": {
     "name": "#%%\n"
    }
   },
   "outputs": [
    {
     "name": "stdout",
     "output_type": "stream",
     "text": [
      "Temp data looks like: 19.402618 (Units: K)\n",
      "Our time data is from 3392409600 to 3839526000\n"
     ]
    }
   ],
   "source": [
    "print(\"Temp data looks like: %s (Units: %s)\" % (temp[0,0], temp.units)) # Simulation_index = 0, depth_index = 0\n",
    "print('Our time data is from %s to %s' % (time[0], time[-1]))"
   ]
  },
  {
   "cell_type": "code",
   "execution_count": 2,
   "metadata": {},
   "outputs": [
    {
     "ename": "AttributeError",
     "evalue": "NetCDF: Attribute not found",
     "output_type": "error",
     "traceback": [
      "\u001b[0;31m---------------------------------------------------------------------------\u001b[0m",
      "\u001b[0;31mAttributeError\u001b[0m                            Traceback (most recent call last)",
      "\u001b[1;32m/home/hma000/accomatic-web/notebooks/scratch.ipynb Cell 7\u001b[0m in \u001b[0;36m<cell line: 1>\u001b[0;34m()\u001b[0m\n\u001b[0;32m----> <a href='vscode-notebook-cell://ssh-remote%2B206.12.93.23/home/hma000/accomatic-web/notebooks/scratch.ipynb#ch0000017vscode-remote?line=0'>1</a>\u001b[0m df \u001b[39m=\u001b[39m f\u001b[39m.\u001b[39;49msoil_temperature\u001b[39m.\u001b[39mto_dataframe()\n",
      "File \u001b[0;32msrc/netCDF4/_netCDF4.pyx:2922\u001b[0m, in \u001b[0;36mnetCDF4._netCDF4.Dataset.__getattr__\u001b[0;34m()\u001b[0m\n",
      "File \u001b[0;32msrc/netCDF4/_netCDF4.pyx:2864\u001b[0m, in \u001b[0;36mnetCDF4._netCDF4.Dataset.getncattr\u001b[0;34m()\u001b[0m\n",
      "File \u001b[0;32msrc/netCDF4/_netCDF4.pyx:1445\u001b[0m, in \u001b[0;36mnetCDF4._netCDF4._get_att\u001b[0;34m()\u001b[0m\n",
      "File \u001b[0;32msrc/netCDF4/_netCDF4.pyx:1927\u001b[0m, in \u001b[0;36mnetCDF4._netCDF4._ensure_nc_success\u001b[0;34m()\u001b[0m\n",
      "\u001b[0;31mAttributeError\u001b[0m: NetCDF: Attribute not found"
     ]
    }
   ],
   "source": [
    "df = f.soil_temperature.to_dataframe()"
   ]
  }
 ],
 "metadata": {
  "kernelspec": {
   "display_name": "Python 3.9.12 ('acco')",
   "language": "python",
   "name": "python3"
  },
  "language_info": {
   "codemirror_mode": {
    "name": "ipython",
    "version": 3
   },
   "file_extension": ".py",
   "mimetype": "text/x-python",
   "name": "python",
   "nbconvert_exporter": "python",
   "pygments_lexer": "ipython3",
   "version": "3.9.12"
  },
  "vscode": {
   "interpreter": {
    "hash": "e9e928bd9c9cdfa6955013c6d6fb96ecda3bfe94793204372f8e3f5041cbdff3"
   }
  }
 },
 "nbformat": 4,
 "nbformat_minor": 1
}
