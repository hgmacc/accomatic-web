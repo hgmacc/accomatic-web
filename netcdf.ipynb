{
 "cells": [
  {
   "cell_type": "code",
   "execution_count": 4,
   "metadata": {},
   "outputs": [],
   "source": [
    "import xarray as xr\n",
    "import pandas as pd\n",
    "from netCDF4 import Dataset\n",
    "import matplotlib.dates as mdates\n",
    "import matplotlib.pyplot as plt\n",
    "import numpy as np\n",
    "import matplotlib.pyplot as plt\n",
    "from datetime import datetime, timedelta\n",
    "from netCDF4 import num2date\n",
    "import sys"
   ]
  },
  {
   "cell_type": "code",
   "execution_count": 4,
   "metadata": {},
   "outputs": [],
   "source": [
    "try: ncfile.close()\n",
    "except: pass\n",
    "\n",
    "# Open file\n",
    "ncfile = Dataset('/home/hma000/accomatic-web/data/nc/result_soil_temperature.nc', mode='r')\n",
    "\n",
    "# Select geotop model \n",
    "f = ncfile.groups['geotop'] "
   ]
  },
  {
   "cell_type": "code",
   "execution_count": 2,
   "metadata": {},
   "outputs": [
    {
     "ename": "NameError",
     "evalue": "name 'f' is not defined",
     "output_type": "error",
     "traceback": [
      "\u001b[0;31m---------------------------------------------------------------------------\u001b[0m",
      "\u001b[0;31mNameError\u001b[0m                                 Traceback (most recent call last)",
      "\u001b[1;32m/home/hma000/accomatic-web/netcdf.ipynb Cell 3\u001b[0m line \u001b[0;36m3\n\u001b[1;32m      <a href='vscode-notebook-cell://ssh-remote%2Btalik/home/hma000/accomatic-web/netcdf.ipynb#W2sdnNjb2RlLXJlbW90ZQ%3D%3D?line=0'>1</a>\u001b[0m year  \u001b[39m=\u001b[39m \u001b[39m2020\u001b[39m\n\u001b[0;32m----> <a href='vscode-notebook-cell://ssh-remote%2Btalik/home/hma000/accomatic-web/netcdf.ipynb#W2sdnNjb2RlLXJlbW90ZQ%3D%3D?line=2'>3</a>\u001b[0m temp \u001b[39m=\u001b[39m f[\u001b[39m'\u001b[39m\u001b[39mTg\u001b[39m\u001b[39m'\u001b[39m]\n\u001b[1;32m      <a href='vscode-notebook-cell://ssh-remote%2Btalik/home/hma000/accomatic-web/netcdf.ipynb#W2sdnNjb2RlLXJlbW90ZQ%3D%3D?line=3'>4</a>\u001b[0m time \u001b[39m=\u001b[39m f[\u001b[39m'\u001b[39m\u001b[39mDate\u001b[39m\u001b[39m'\u001b[39m]\n\u001b[1;32m      <a href='vscode-notebook-cell://ssh-remote%2Btalik/home/hma000/accomatic-web/netcdf.ipynb#W2sdnNjb2RlLXJlbW90ZQ%3D%3D?line=5'>6</a>\u001b[0m \u001b[39m# Becuase the data is stores in seconds since 0001-01-01 00:00:00 (ugh!!) \u001b[39;00m\n\u001b[1;32m      <a href='vscode-notebook-cell://ssh-remote%2Btalik/home/hma000/accomatic-web/netcdf.ipynb#W2sdnNjb2RlLXJlbW90ZQ%3D%3D?line=6'>7</a>\u001b[0m \u001b[39m# we have to identify which seconds belong to a year of interest\u001b[39;00m\n\u001b[1;32m      <a href='vscode-notebook-cell://ssh-remote%2Btalik/home/hma000/accomatic-web/netcdf.ipynb#W2sdnNjb2RlLXJlbW90ZQ%3D%3D?line=7'>8</a>\u001b[0m \u001b[39m# start = (datetime(year, 1, 1, 0, 0, 0) - datetime(1, 1, 1, 0, 0, 0)).total_seconds() / 86400\u001b[39;00m\n\u001b[1;32m      <a href='vscode-notebook-cell://ssh-remote%2Btalik/home/hma000/accomatic-web/netcdf.ipynb#W2sdnNjb2RlLXJlbW90ZQ%3D%3D?line=8'>9</a>\u001b[0m \u001b[39m# end = (datetime(year, 12, 31, 23, 0, 0) - datetime(1, 1, 1, 0, 0, 0)).total_seconds() / 86400\u001b[39;00m\n\u001b[1;32m     <a href='vscode-notebook-cell://ssh-remote%2Btalik/home/hma000/accomatic-web/netcdf.ipynb#W2sdnNjb2RlLXJlbW90ZQ%3D%3D?line=9'>10</a>\u001b[0m \u001b[39m# time_select = np.logical_and(time[:] > start, time[:] < end)\u001b[39;00m\n",
      "\u001b[0;31mNameError\u001b[0m: name 'f' is not defined"
     ]
    }
   ],
   "source": [
    "year  = 2020\n",
    "\n",
    "temp = f['Tg']\n",
    "time = f['Date']\n",
    "\n",
    "# Becuase the data is stores in seconds since 0001-01-01 00:00:00 (ugh!!) \n",
    "# we have to identify which seconds belong to a year of interest\n",
    "# start = (datetime(year, 1, 1, 0, 0, 0) - datetime(1, 1, 1, 0, 0, 0)).total_seconds() / 86400\n",
    "# end = (datetime(year, 12, 31, 23, 0, 0) - datetime(1, 1, 1, 0, 0, 0)).total_seconds() / 86400\n",
    "# time_select = np.logical_and(time[:] > start, time[:] < end)\n",
    "\n",
    "fig = plt.figure(figsize=(8, 4))\n",
    "\n",
    "plt.title(\"GEOtop GST Simulations\")\n",
    "to_pass = [9, 18, 69, 87, 83, 84]\n",
    "sites = [i for i in list(range(100)) if i not in to_pass]\n",
    "\n",
    "# data = pd.DataFrame(temp[sites, time_select, 0].T, index=time[time_select], columns=sites)\n",
    "data = pd.DataFrame(temp[sites, :, 0].T, index=time[:], columns=sites)\n",
    "\n",
    "plt.plot(data)\n",
    "   \n",
    "# X Bar formatting, again\n",
    "locs, labels = plt.xticks()\n",
    "labels = [date.strftime('%Y-%m') for date in num2date(locs, time.units)]\n",
    "plt.xticks(locs[::2], labels[::2])\n",
    "\n",
    "plt.show()"
   ]
  },
  {
   "cell_type": "code",
   "execution_count": 13,
   "metadata": {},
   "outputs": [
    {
     "ename": "IndexError",
     "evalue": "sitename not found in /",
     "output_type": "error",
     "traceback": [
      "\u001b[0;31m---------------------------------------------------------------------------\u001b[0m",
      "\u001b[0;31mIndexError\u001b[0m                                Traceback (most recent call last)",
      "\u001b[1;32m/home/hma000/accomatic-web/netcdf.ipynb Cell 4\u001b[0m line \u001b[0;36m6\n\u001b[1;32m      <a href='vscode-notebook-cell://ssh-remote%2Btalik/home/hma000/accomatic-web/netcdf.ipynb#W3sdnNjb2RlLXJlbW90ZQ%3D%3D?line=3'>4</a>\u001b[0m temp \u001b[39m=\u001b[39m f[\u001b[39m'\u001b[39m\u001b[39msoil_temperature\u001b[39m\u001b[39m'\u001b[39m]\n\u001b[1;32m      <a href='vscode-notebook-cell://ssh-remote%2Btalik/home/hma000/accomatic-web/netcdf.ipynb#W3sdnNjb2RlLXJlbW90ZQ%3D%3D?line=4'>5</a>\u001b[0m time \u001b[39m=\u001b[39m f[\u001b[39m'\u001b[39m\u001b[39mtime\u001b[39m\u001b[39m'\u001b[39m]\n\u001b[0;32m----> <a href='vscode-notebook-cell://ssh-remote%2Btalik/home/hma000/accomatic-web/netcdf.ipynb#W3sdnNjb2RlLXJlbW90ZQ%3D%3D?line=5'>6</a>\u001b[0m stn \u001b[39m=\u001b[39m f[\u001b[39m\"\u001b[39;49m\u001b[39msitename\u001b[39;49m\u001b[39m\"\u001b[39;49m]\n\u001b[1;32m      <a href='vscode-notebook-cell://ssh-remote%2Btalik/home/hma000/accomatic-web/netcdf.ipynb#W3sdnNjb2RlLXJlbW90ZQ%3D%3D?line=6'>7</a>\u001b[0m \u001b[39mprint\u001b[39m(stn)\n\u001b[1;32m      <a href='vscode-notebook-cell://ssh-remote%2Btalik/home/hma000/accomatic-web/netcdf.ipynb#W3sdnNjb2RlLXJlbW90ZQ%3D%3D?line=7'>8</a>\u001b[0m sys\u001b[39m.\u001b[39mexit()\n",
      "File \u001b[0;32msrc/netCDF4/_netCDF4.pyx:2519\u001b[0m, in \u001b[0;36mnetCDF4._netCDF4.Dataset.__getitem__\u001b[0;34m()\u001b[0m\n",
      "\u001b[0;31mIndexError\u001b[0m: sitename not found in /"
     ]
    }
   ],
   "source": [
    "f = Dataset('/home/hma000/accomatic-web/data/nc/obs_85.nc', mode='r')\n",
    "year  = 2020\n",
    "\n",
    "temp = f['soil_temperature']\n",
    "time = f['time']\n",
    "print(f.variables)\n",
    "sys.exit()\n",
    "\n",
    "# Becuase the data is stores in seconds since 0001-01-01 00:00:00 (ugh!!) \n",
    "# we have to identify which seconds belong to a year of interest\n",
    "start = (datetime(year, 1, 1, 0, 0, 0) - datetime(1, 1, 1, 0, 0, 0)).total_seconds() / 86400\n",
    "end = (datetime(year, 12, 31, 23, 0, 0) - datetime(1, 1, 1, 0, 0, 0)).total_seconds() / 86400\n",
    "time_select = np.logical_and(time[:] > start, time[:] < end)\n",
    "\n",
    "fig = plt.figure(figsize=(6,5))\n",
    "\n",
    "# to_pass = [9, 18, 69, 87, 83, 84]\n",
    "# csites = [i for i in list(range(45)) if i not in to_pass]\n",
    "\n",
    "# data = pd.DataFrame(temp[sites, time_select, 0].T, index=time[time_select], columns=sites)\n",
    "data = pd.DataFrame(temp[-6, :].T, index=time[:])\n",
    "plt.plot(data, linewidth=1)\n",
    "\n",
    "# X Bar formatting, again\n",
    "locs, labels = plt.xticks()\n",
    "labels = [date.strftime('%Y-%m') for date in num2date(locs, time.units)]\n",
    "plt.xticks(locs[::2], labels[::2])\n",
    "\n",
    "plt.show()\n",
    "plt.savefig('galina_obs.png')"
   ]
  },
  {
   "cell_type": "code",
   "execution_count": null,
   "metadata": {},
   "outputs": [],
   "source": []
  },
  {
   "cell_type": "code",
   "execution_count": null,
   "metadata": {},
   "outputs": [],
   "source": []
  }
 ],
 "metadata": {
  "kernelspec": {
   "display_name": "acco",
   "language": "python",
   "name": "python3"
  },
  "language_info": {
   "codemirror_mode": {
    "name": "ipython",
    "version": 3
   },
   "file_extension": ".py",
   "mimetype": "text/x-python",
   "name": "python",
   "nbconvert_exporter": "python",
   "pygments_lexer": "ipython3",
   "version": "3.9.17"
  }
 },
 "nbformat": 4,
 "nbformat_minor": 2
}
