{
 "cells": [
  {
   "cell_type": "code",
   "execution_count": 1,
   "metadata": {},
   "outputs": [],
   "source": [
    "import sys\n",
    "import pickle\n",
    "\n",
    "sys.path.append(\"../\")\n",
    "from accomatic.Experiment import *\n",
    "from accomatic.Stats import *\n",
    "\n",
    "###### NEW #############################################################\n",
    "# exp = Experiment(\"/home/hma000/accomatic-web/data/toml/run.toml\")\n",
    "# build(exp)\n",
    "# pth = \"/home/hma000/accomatic-web/data/pickles/DEC01_bs1000_d01.pickle\"\n",
    "# with open(pth, \"wb\") as handle:\n",
    "#     pickle.dump(exp, handle, protocol=pickle.HIGHEST_PROTOCOL)\n",
    "# handle.close()"
   ]
  },
  {
   "cell_type": "code",
   "execution_count": 2,
   "metadata": {},
   "outputs": [
    {
     "ename": "ModuleNotFoundError",
     "evalue": "No module named 'Experiment'",
     "output_type": "error",
     "traceback": [
      "\u001b[0;31m---------------------------------------------------------------------------\u001b[0m",
      "\u001b[0;31mModuleNotFoundError\u001b[0m                       Traceback (most recent call last)",
      "\u001b[1;32m/home/hma000/accomatic-web/experiments/ranking.ipynb Cell 2\u001b[0m line \u001b[0;36m8\n\u001b[1;32m      <a href='vscode-notebook-cell://ssh-remote%2Btalik/home/hma000/accomatic-web/experiments/ranking.ipynb#W1sdnNjb2RlLXJlbW90ZQ%3D%3D?line=5'>6</a>\u001b[0m pth \u001b[39m=\u001b[39m \u001b[39m\"\u001b[39m\u001b[39m/home/hma000/accomatic-web/data/pickles/NOV30_bs1000_d01.pickle\u001b[39m\u001b[39m\"\u001b[39m\n\u001b[1;32m      <a href='vscode-notebook-cell://ssh-remote%2Btalik/home/hma000/accomatic-web/experiments/ranking.ipynb#W1sdnNjb2RlLXJlbW90ZQ%3D%3D?line=6'>7</a>\u001b[0m \u001b[39mwith\u001b[39;00m \u001b[39mopen\u001b[39m(pth, \u001b[39m\"\u001b[39m\u001b[39mrb\u001b[39m\u001b[39m\"\u001b[39m) \u001b[39mas\u001b[39;00m f:\n\u001b[0;32m----> <a href='vscode-notebook-cell://ssh-remote%2Btalik/home/hma000/accomatic-web/experiments/ranking.ipynb#W1sdnNjb2RlLXJlbW90ZQ%3D%3D?line=7'>8</a>\u001b[0m     exp \u001b[39m=\u001b[39m pickle\u001b[39m.\u001b[39;49mload(f)\n",
      "\u001b[0;31mModuleNotFoundError\u001b[0m: No module named 'Experiment'"
     ]
    }
   ],
   "source": [
    "\n",
    "####### OLD #############################################################\n",
    "# pth = \"/home/hma000/accomatic-web/data/pickles/NOV16_bs1000_d05.pickle\"\n",
    "# with open(pth, \"rb\") as f:\n",
    "#     exp05 = pickle.load(f)\n",
    " \n",
    "pth = \"/home/hma000/accomatic-web/data/pickles/NOV30_bs1000_d01.pickle\"\n",
    "with open(pth, \"rb\") as f:\n",
    "    exp = pickle.load(f)\n",
    "\n"
   ]
  },
  {
   "cell_type": "code",
   "execution_count": 3,
   "metadata": {},
   "outputs": [
    {
     "ename": "NameError",
     "evalue": "name 'exp' is not defined",
     "output_type": "error",
     "traceback": [
      "\u001b[0;31m---------------------------------------------------------------------------\u001b[0m",
      "\u001b[0;31mNameError\u001b[0m                                 Traceback (most recent call last)",
      "\u001b[1;32m/home/hma000/accomatic-web/experiments/ranking.ipynb Cell 3\u001b[0m line \u001b[0;36m3\n\u001b[1;32m      <a href='vscode-notebook-cell://ssh-remote%2Btalik/home/hma000/accomatic-web/experiments/ranking.ipynb#W2sdnNjb2RlLXJlbW90ZQ%3D%3D?line=0'>1</a>\u001b[0m \u001b[39mfrom\u001b[39;00m \u001b[39mplotting\u001b[39;00m\u001b[39m.\u001b[39;00m\u001b[39mheatmap\u001b[39;00m \u001b[39mimport\u001b[39;00m \u001b[39m*\u001b[39m\n\u001b[0;32m----> <a href='vscode-notebook-cell://ssh-remote%2Btalik/home/hma000/accomatic-web/experiments/ranking.ipynb#W2sdnNjb2RlLXJlbW90ZQ%3D%3D?line=2'>3</a>\u001b[0m fig \u001b[39m=\u001b[39m rank_dist_heatmap(rank_distribution(exp, stat\u001b[39m=\u001b[39m\u001b[39m\"\u001b[39m\u001b[39mMAE\u001b[39m\u001b[39m\"\u001b[39m), save\u001b[39m=\u001b[39m\u001b[39mFalse\u001b[39;00m)\n\u001b[1;32m      <a href='vscode-notebook-cell://ssh-remote%2Btalik/home/hma000/accomatic-web/experiments/ranking.ipynb#W2sdnNjb2RlLXJlbW90ZQ%3D%3D?line=3'>4</a>\u001b[0m plt\u001b[39m.\u001b[39mshow()\n",
      "\u001b[0;31mNameError\u001b[0m: name 'exp' is not defined"
     ]
    }
   ],
   "source": [
    "from plotting.heatmap import *\n",
    "\n",
    "fig = rank_dist_heatmap(rank_distribution(exp, stat=\"MAE\"), save=False)\n",
    "plt.show()\n"
   ]
  },
  {
   "cell_type": "code",
   "execution_count": null,
   "metadata": {},
   "outputs": [],
   "source": [
    "pth = \"/home/hma000/accomatic-web/data/pickles/NOV16_bs1000_d05.pickle\"\n",
    "with open(pth, \"rb\") as f:\n",
    "    exp = pickle.load(f)\n",
    "\n",
    "\n",
    "fig = boxplot(exp, stat=[\"MAE\"], save=False)\n",
    "plt.show()\n",
    "\n",
    "\n"
   ]
  }
 ],
 "metadata": {
  "kernelspec": {
   "display_name": "acco",
   "language": "python",
   "name": "python3"
  },
  "language_info": {
   "codemirror_mode": {
    "name": "ipython",
    "version": 3
   },
   "file_extension": ".py",
   "mimetype": "text/x-python",
   "name": "python",
   "nbconvert_exporter": "python",
   "pygments_lexer": "ipython3",
   "version": "3.9.17"
  }
 },
 "nbformat": 4,
 "nbformat_minor": 2
}
