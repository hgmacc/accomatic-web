{
 "metadata": {
  "language_info": {
   "codemirror_mode": {
    "name": "ipython",
    "version": 3
   },
   "file_extension": ".py",
   "mimetype": "text/x-python",
   "name": "python",
   "nbconvert_exporter": "python",
   "pygments_lexer": "ipython3",
   "version": "3.6.10-final"
  },
  "orig_nbformat": 2,
  "kernelspec": {
   "name": "python3",
   "display_name": "Python 3.6.10 64-bit ('pydap': conda)",
   "metadata": {
    "interpreter": {
     "hash": "d9541fc4c732e375d4d849e73c15452b7324212bf2a1f539f164cb203516a4b8"
    }
   }
  }
 },
 "nbformat": 4,
 "nbformat_minor": 2,
 "cells": [
  {
   "source": [],
   "cell_type": "markdown",
   "metadata": {
    "pycharm": {
     "name": "#%% md\n"
    }
   }
  },
  {
   "source": [
    "<a name=\"connecting\"></a>\n",
    "# Connecting to ERDDAP \n",
    "We use the [`erddapy`](https://pypi.org/project/erddapy/) library to make a connection to the ERDDAP server at [`https://data.permafrostnet.ca/erddap`](https://data.permafrostnet.ca/erddap). \n",
    "\n",
    "For a more thorough tutorial about the erddapy library, see the [erddapy documentation](https://ioos.github.io/erddapy/master/01-longer_intro-output.html)"
   ],
   "cell_type": "markdown",
   "metadata": {}
  },
  {
   "cell_type": "code",
   "execution_count": 64,
   "metadata": {},
   "outputs": [],
   "source": [
    "from erddapy import ERDDAP\n",
    "import pandas as pd\n",
    "pd.set_option('display.max_colwidth', 0)\n",
    "\n",
    "erddap = ERDDAP(\n",
    "  server='https://data.permafrostnet.ca/erddap',\n",
    "  protocol='tabledap',\n",
    ")\n"
   ]
  },
  {
   "source": [
    "<a name=\"access_temperature\"></a>\n",
    "# Accessing ground temperature data\n",
    "First, we search for all datasets that match a set of search criteria. The `standard_name` parameter is used to specify what kind of data we are looking for. The [CF standard name table](https://cfconventions.org/Data/cf-standard-names/74/build/cf-standard-name-table.html) provides a list of valid `standard_names`. For ground temperature, we are most interested in `soil_temperature` and `solid_earth_subsurface_temperature`. In this example,  we will search for `soil_temperature`.\n",
    "\n"
   ],
   "cell_type": "markdown",
   "metadata": {}
  },
  {
   "cell_type": "code",
   "execution_count": 65,
   "metadata": {},
   "outputs": [
    {
     "output_type": "execute_result",
     "data": {
      "text/plain": [
       "            Dataset ID  \\\n",
       "0   pfnetGrndTmpAll      \n",
       "1   2019-007-FEN_DP      \n",
       "2   2019-007-FEN_SHLW    \n",
       "3   2019-007-PLT1_DP     \n",
       "4   2019-007-PLT1_SHLW   \n",
       "5   2019-007-PLT2_SHLW   \n",
       "6   2019-007-PLT3_SHLW   \n",
       "7   2019-007-PLT4_SHLW   \n",
       "8   2019-007-PLT5_SHLW   \n",
       "9   2019-007-SL_DP       \n",
       "10  2019-007-SL_SHLW     \n",
       "11  2019-007-WRD_DP      \n",
       "12  2019-007-WRD_SHLW    \n",
       "13  2019-007-WRW_DP      \n",
       "14  2019-007-WRW_SHLW    \n",
       "15  2017-009             \n",
       "16  2019-007             \n",
       "\n",
       "                                                                                                                                                           Title  \n",
       "0   Aggregated Ground Temperature Datasets                                                                                                                        \n",
       "1   Ground temperature at FEN_DP, Scotty Creek Research Station, Northwest Territories                                                                            \n",
       "2   Ground temperature at FEN_SHLW, Scotty Creek Research Station, Northwest Territories                                                                          \n",
       "3   Ground temperature at PLT1_DP, Scotty Creek Research Station, Northwest Territories                                                                           \n",
       "4   Ground temperature at PLT1_SHLW, Scotty Creek Research Station, Northwest Territories                                                                         \n",
       "5   Ground temperature at PLT2_SHLW, Scotty Creek Research Station, Northwest Territories                                                                         \n",
       "6   Ground temperature at PLT3_SHLW, Scotty Creek Research Station, Northwest Territories                                                                         \n",
       "7   Ground temperature at PLT4_SHLW, Scotty Creek Research Station, Northwest Territories                                                                         \n",
       "8   Ground temperature at PLT5_SHLW, Scotty Creek Research Station, Northwest Territories                                                                         \n",
       "9   Ground temperature at SL_DP, Scotty Creek Research Station, Northwest Territories                                                                             \n",
       "10  Ground temperature at SL_SHLW, Scotty Creek Research Station, Northwest Territories                                                                           \n",
       "11  Ground temperature at WRD_DP, Scotty Creek Research Station, Northwest Territories                                                                            \n",
       "12  Ground temperature at WRD_SHLW, Scotty Creek Research Station, Northwest Territories                                                                          \n",
       "13  Ground temperature at WRW_DP, Scotty Creek Research Station, Northwest Territories                                                                            \n",
       "14  Ground temperature at WRW_SHLW, Scotty Creek Research Station, Northwest Territories                                                                          \n",
       "15  Permafrost Ground Temperature Report: Ground temperature variability among terrain types in the Peel Plateau region of the Northwest Territories (2011-2015)  \n",
       "16  Permafrost Ground Temperature Report: Scotty Creek Research Station, Northwest Territories                                                                    "
      ],
      "text/html": "<div>\n<style scoped>\n    .dataframe tbody tr th:only-of-type {\n        vertical-align: middle;\n    }\n\n    .dataframe tbody tr th {\n        vertical-align: top;\n    }\n\n    .dataframe thead th {\n        text-align: right;\n    }\n</style>\n<table border=\"1\" class=\"dataframe\">\n  <thead>\n    <tr style=\"text-align: right;\">\n      <th></th>\n      <th>Dataset ID</th>\n      <th>Title</th>\n    </tr>\n  </thead>\n  <tbody>\n    <tr>\n      <th>0</th>\n      <td>pfnetGrndTmpAll</td>\n      <td>Aggregated Ground Temperature Datasets</td>\n    </tr>\n    <tr>\n      <th>1</th>\n      <td>2019-007-FEN_DP</td>\n      <td>Ground temperature at FEN_DP, Scotty Creek Research Station, Northwest Territories</td>\n    </tr>\n    <tr>\n      <th>2</th>\n      <td>2019-007-FEN_SHLW</td>\n      <td>Ground temperature at FEN_SHLW, Scotty Creek Research Station, Northwest Territories</td>\n    </tr>\n    <tr>\n      <th>3</th>\n      <td>2019-007-PLT1_DP</td>\n      <td>Ground temperature at PLT1_DP, Scotty Creek Research Station, Northwest Territories</td>\n    </tr>\n    <tr>\n      <th>4</th>\n      <td>2019-007-PLT1_SHLW</td>\n      <td>Ground temperature at PLT1_SHLW, Scotty Creek Research Station, Northwest Territories</td>\n    </tr>\n    <tr>\n      <th>5</th>\n      <td>2019-007-PLT2_SHLW</td>\n      <td>Ground temperature at PLT2_SHLW, Scotty Creek Research Station, Northwest Territories</td>\n    </tr>\n    <tr>\n      <th>6</th>\n      <td>2019-007-PLT3_SHLW</td>\n      <td>Ground temperature at PLT3_SHLW, Scotty Creek Research Station, Northwest Territories</td>\n    </tr>\n    <tr>\n      <th>7</th>\n      <td>2019-007-PLT4_SHLW</td>\n      <td>Ground temperature at PLT4_SHLW, Scotty Creek Research Station, Northwest Territories</td>\n    </tr>\n    <tr>\n      <th>8</th>\n      <td>2019-007-PLT5_SHLW</td>\n      <td>Ground temperature at PLT5_SHLW, Scotty Creek Research Station, Northwest Territories</td>\n    </tr>\n    <tr>\n      <th>9</th>\n      <td>2019-007-SL_DP</td>\n      <td>Ground temperature at SL_DP, Scotty Creek Research Station, Northwest Territories</td>\n    </tr>\n    <tr>\n      <th>10</th>\n      <td>2019-007-SL_SHLW</td>\n      <td>Ground temperature at SL_SHLW, Scotty Creek Research Station, Northwest Territories</td>\n    </tr>\n    <tr>\n      <th>11</th>\n      <td>2019-007-WRD_DP</td>\n      <td>Ground temperature at WRD_DP, Scotty Creek Research Station, Northwest Territories</td>\n    </tr>\n    <tr>\n      <th>12</th>\n      <td>2019-007-WRD_SHLW</td>\n      <td>Ground temperature at WRD_SHLW, Scotty Creek Research Station, Northwest Territories</td>\n    </tr>\n    <tr>\n      <th>13</th>\n      <td>2019-007-WRW_DP</td>\n      <td>Ground temperature at WRW_DP, Scotty Creek Research Station, Northwest Territories</td>\n    </tr>\n    <tr>\n      <th>14</th>\n      <td>2019-007-WRW_SHLW</td>\n      <td>Ground temperature at WRW_SHLW, Scotty Creek Research Station, Northwest Territories</td>\n    </tr>\n    <tr>\n      <th>15</th>\n      <td>2017-009</td>\n      <td>Permafrost Ground Temperature Report: Ground temperature variability among terrain types in the Peel Plateau region of the Northwest Territories (2011-2015)</td>\n    </tr>\n    <tr>\n      <th>16</th>\n      <td>2019-007</td>\n      <td>Permafrost Ground Temperature Report: Scotty Creek Research Station, Northwest Territories</td>\n    </tr>\n  </tbody>\n</table>\n</div>"
     },
     "metadata": {},
     "execution_count": 65
    }
   ],
   "source": [
    "search_parameters = {\n",
    "                    \"standard_name\": \"soil_temperature\",\n",
    "                    \"cdm_data_type\": \"timeseriesprofile\",\n",
    "                    \"min_lon\": -122.0,\n",
    "                    \"max_lon\": -120.0,\n",
    "                    \"min_lat\": 60.0,\n",
    "                    \"max_lat\": 70.0\n",
    "}\n",
    "\n",
    "search_url = erddap.get_search_url(response=\"csv\", **search_parameters)\n",
    "search_result = pd.read_csv(search_url)\n",
    "\n",
    "search_result[['Dataset ID', 'Title']]\n",
    "\n"
   ]
  },
  {
   "source": [
    "Now that we have a list of datasets matching our search criteria, we want to get the data from a site. The variable names in a dataset aren't standardized, but we can use the `standard_name` and `axis` attributes (which are standardized!) to find what we need. "
   ],
   "cell_type": "markdown",
   "metadata": {}
  },
  {
   "cell_type": "code",
   "execution_count": 66,
   "metadata": {},
   "outputs": [
    {
     "output_type": "stream",
     "name": "stdout",
     "text": [
      "The variables of interest are named: ['latitude', 'longitude', 'time', 'depth', 'soil_temperature']\n"
     ]
    }
   ],
   "source": [
    "coordinates = erddap.get_var_by_attr(\n",
    "            dataset_id=\"2019-007-PLT1_SHLW\",\n",
    "            axis=lambda v: v in [\"X\", \"Y\", \"Z\", \"T\"]\n",
    "        )\n",
    "\n",
    "temperature = erddap.get_var_by_attr(\n",
    "            dataset_id=\"2019-007-PLT1_SHLW\",\n",
    "            standard_name=\"soil_temperature\"\n",
    "        )\n",
    "\n",
    "print(f\"The variables of interest are named: {coordinates + temperature}\")\n"
   ]
  },
  {
   "cell_type": "code",
   "execution_count": 67,
   "metadata": {},
   "outputs": [
    {
     "output_type": "execute_result",
     "data": {
      "text/plain": [
       "       latitude  longitude                  time  depth  soil_temperature\n",
       "126    61.3084  -121.3079   2012-08-01T03:00:00Z  0.05   16.392          \n",
       "127    61.3084  -121.3079   2012-08-01T05:00:00Z  0.05   18.747          \n",
       "128    61.3084  -121.3079   2012-08-01T07:00:00Z  0.05   19.294          \n",
       "129    61.3084  -121.3079   2012-08-01T09:00:00Z  0.05   18.961          \n",
       "130    61.3084  -121.3079   2012-08-01T11:00:00Z  0.05   18.461          \n",
       "...        ...        ...                    ...   ...      ...          \n",
       "78989  61.3084  -121.3079   2017-01-29T19:00:00Z  1.00  -0.004           \n",
       "78990  61.3084  -121.3079   2017-01-29T21:00:00Z  1.00  -0.004           \n",
       "78991  61.3084  -121.3079   2017-01-29T23:00:00Z  1.00  -0.004           \n",
       "78992  61.3084  -121.3079   2017-01-30T01:00:00Z  1.00  -0.004           \n",
       "78993  61.3084  -121.3079   2017-01-30T03:00:00Z  1.00  -0.004           \n",
       "\n",
       "[39688 rows x 5 columns]"
      ],
      "text/html": "<div>\n<style scoped>\n    .dataframe tbody tr th:only-of-type {\n        vertical-align: middle;\n    }\n\n    .dataframe tbody tr th {\n        vertical-align: top;\n    }\n\n    .dataframe thead th {\n        text-align: right;\n    }\n</style>\n<table border=\"1\" class=\"dataframe\">\n  <thead>\n    <tr style=\"text-align: right;\">\n      <th></th>\n      <th>latitude</th>\n      <th>longitude</th>\n      <th>time</th>\n      <th>depth</th>\n      <th>soil_temperature</th>\n    </tr>\n  </thead>\n  <tbody>\n    <tr>\n      <th>126</th>\n      <td>61.3084</td>\n      <td>-121.3079</td>\n      <td>2012-08-01T03:00:00Z</td>\n      <td>0.05</td>\n      <td>16.392</td>\n    </tr>\n    <tr>\n      <th>127</th>\n      <td>61.3084</td>\n      <td>-121.3079</td>\n      <td>2012-08-01T05:00:00Z</td>\n      <td>0.05</td>\n      <td>18.747</td>\n    </tr>\n    <tr>\n      <th>128</th>\n      <td>61.3084</td>\n      <td>-121.3079</td>\n      <td>2012-08-01T07:00:00Z</td>\n      <td>0.05</td>\n      <td>19.294</td>\n    </tr>\n    <tr>\n      <th>129</th>\n      <td>61.3084</td>\n      <td>-121.3079</td>\n      <td>2012-08-01T09:00:00Z</td>\n      <td>0.05</td>\n      <td>18.961</td>\n    </tr>\n    <tr>\n      <th>130</th>\n      <td>61.3084</td>\n      <td>-121.3079</td>\n      <td>2012-08-01T11:00:00Z</td>\n      <td>0.05</td>\n      <td>18.461</td>\n    </tr>\n    <tr>\n      <th>...</th>\n      <td>...</td>\n      <td>...</td>\n      <td>...</td>\n      <td>...</td>\n      <td>...</td>\n    </tr>\n    <tr>\n      <th>78989</th>\n      <td>61.3084</td>\n      <td>-121.3079</td>\n      <td>2017-01-29T19:00:00Z</td>\n      <td>1.00</td>\n      <td>-0.004</td>\n    </tr>\n    <tr>\n      <th>78990</th>\n      <td>61.3084</td>\n      <td>-121.3079</td>\n      <td>2017-01-29T21:00:00Z</td>\n      <td>1.00</td>\n      <td>-0.004</td>\n    </tr>\n    <tr>\n      <th>78991</th>\n      <td>61.3084</td>\n      <td>-121.3079</td>\n      <td>2017-01-29T23:00:00Z</td>\n      <td>1.00</td>\n      <td>-0.004</td>\n    </tr>\n    <tr>\n      <th>78992</th>\n      <td>61.3084</td>\n      <td>-121.3079</td>\n      <td>2017-01-30T01:00:00Z</td>\n      <td>1.00</td>\n      <td>-0.004</td>\n    </tr>\n    <tr>\n      <th>78993</th>\n      <td>61.3084</td>\n      <td>-121.3079</td>\n      <td>2017-01-30T03:00:00Z</td>\n      <td>1.00</td>\n      <td>-0.004</td>\n    </tr>\n  </tbody>\n</table>\n<p>39688 rows × 5 columns</p>\n</div>"
     },
     "metadata": {},
     "execution_count": 67
    }
   ],
   "source": [
    "\n",
    "\n",
    "search_parameters = {'variables' : coordinates + temperature,\n",
    "                    'response' : 'csv',\n",
    "                    'dataset_id' : \"2019-007-PLT1_SHLW\"\n",
    "                    }\n",
    "\n",
    "data_url = erddap.get_download_url(**search_parameters)  \n",
    "data = pd.read_csv(data_url, skiprows=(1,)).dropna()\n",
    "\n",
    "data"
   ]
  },
  {
   "source": [
    "<a name=\"access_profile\"></a>\n",
    "# Accessing Geotechnical/borehole profile data\n",
    " "
   ],
   "cell_type": "markdown",
   "metadata": {}
  },
  {
   "source": [
    "There aren't yet `standard_name`s defined for a number of geotechnical variables (this is in the works), so for now, you can search for datasets that are of the type `profile`:"
   ],
   "cell_type": "markdown",
   "metadata": {}
  },
  {
   "cell_type": "code",
   "execution_count": 68,
   "metadata": {},
   "outputs": [
    {
     "output_type": "execute_result",
     "data": {
      "text/plain": [
       "                        Dataset ID  \\\n",
       "0    NTGS-2021-xx-6176e9b97f35c33b   \n",
       "1    NTGS-2021-xx-4496b36c8d0632ce   \n",
       "2    NTGS-2021-xx-320e06c998f5e7f9   \n",
       "3    NTGS-2021-xx-09bffbaba33f1360   \n",
       "4    NTGS-2021-xx-0184a6177a0f9aaf   \n",
       "..                             ...   \n",
       "570  NTGS-2021-xx-f182689849cc17f1   \n",
       "571  NTGS-2021-xx-f0ee1aab4be085ec   \n",
       "572  NTGS-2021-xx-b8f016462faa0219   \n",
       "573  NTGS-2021-xx-194c985bea623339   \n",
       "574  ntgs-AC                         \n",
       "\n",
       "                                                                                                        Title  \n",
       "0    Cryostratigraphic data for borehole 170-1-10                                                              \n",
       "1    Cryostratigraphic data for borehole 170-1-12                                                              \n",
       "2    Cryostratigraphic data for borehole 170-1-17                                                              \n",
       "3    Cryostratigraphic data for borehole 170-1-18                                                              \n",
       "4    Cryostratigraphic data for borehole 170-1-19                                                              \n",
       "..                                            ...                                                              \n",
       "570  Cryostratigraphic data for borehole W14103137-S6-BH13                                                     \n",
       "571  Cryostratigraphic data for borehole W14103137-S6-BH14                                                     \n",
       "572  Cryostratigraphic data for borehole W14103137-S6-BH15                                                     \n",
       "573  Cryostratigraphic data for borehole W14103137-S6-BH16                                                     \n",
       "574  Cryostratigraphic Synthesis of Inuvik to Tuktoyaktuk Highway Corridor Geotechnical Boreholes (2012-2017)  \n",
       "\n",
       "[575 rows x 2 columns]"
      ],
      "text/html": "<div>\n<style scoped>\n    .dataframe tbody tr th:only-of-type {\n        vertical-align: middle;\n    }\n\n    .dataframe tbody tr th {\n        vertical-align: top;\n    }\n\n    .dataframe thead th {\n        text-align: right;\n    }\n</style>\n<table border=\"1\" class=\"dataframe\">\n  <thead>\n    <tr style=\"text-align: right;\">\n      <th></th>\n      <th>Dataset ID</th>\n      <th>Title</th>\n    </tr>\n  </thead>\n  <tbody>\n    <tr>\n      <th>0</th>\n      <td>NTGS-2021-xx-6176e9b97f35c33b</td>\n      <td>Cryostratigraphic data for borehole 170-1-10</td>\n    </tr>\n    <tr>\n      <th>1</th>\n      <td>NTGS-2021-xx-4496b36c8d0632ce</td>\n      <td>Cryostratigraphic data for borehole 170-1-12</td>\n    </tr>\n    <tr>\n      <th>2</th>\n      <td>NTGS-2021-xx-320e06c998f5e7f9</td>\n      <td>Cryostratigraphic data for borehole 170-1-17</td>\n    </tr>\n    <tr>\n      <th>3</th>\n      <td>NTGS-2021-xx-09bffbaba33f1360</td>\n      <td>Cryostratigraphic data for borehole 170-1-18</td>\n    </tr>\n    <tr>\n      <th>4</th>\n      <td>NTGS-2021-xx-0184a6177a0f9aaf</td>\n      <td>Cryostratigraphic data for borehole 170-1-19</td>\n    </tr>\n    <tr>\n      <th>...</th>\n      <td>...</td>\n      <td>...</td>\n    </tr>\n    <tr>\n      <th>570</th>\n      <td>NTGS-2021-xx-f182689849cc17f1</td>\n      <td>Cryostratigraphic data for borehole W14103137-S6-BH13</td>\n    </tr>\n    <tr>\n      <th>571</th>\n      <td>NTGS-2021-xx-f0ee1aab4be085ec</td>\n      <td>Cryostratigraphic data for borehole W14103137-S6-BH14</td>\n    </tr>\n    <tr>\n      <th>572</th>\n      <td>NTGS-2021-xx-b8f016462faa0219</td>\n      <td>Cryostratigraphic data for borehole W14103137-S6-BH15</td>\n    </tr>\n    <tr>\n      <th>573</th>\n      <td>NTGS-2021-xx-194c985bea623339</td>\n      <td>Cryostratigraphic data for borehole W14103137-S6-BH16</td>\n    </tr>\n    <tr>\n      <th>574</th>\n      <td>ntgs-AC</td>\n      <td>Cryostratigraphic Synthesis of Inuvik to Tuktoyaktuk Highway Corridor Geotechnical Boreholes (2012-2017)</td>\n    </tr>\n  </tbody>\n</table>\n<p>575 rows × 2 columns</p>\n</div>"
     },
     "metadata": {},
     "execution_count": 68
    }
   ],
   "source": [
    "search_parameters = {\n",
    "                    \"cdm_data_type\": \"profile\"\n",
    "}\n",
    "\n",
    "search_url = erddap.get_search_url(response=\"csv\", **search_parameters)\n",
    "search_result = pd.read_csv(search_url)\n",
    "\n",
    "search_result[['Dataset ID', 'Title']]"
   ]
  },
  {
   "source": [
    "There aren't yet `standard_name`'s defined for most geotechnical variables (this is in the works), so for the time being, a number of the query parameters for geotechnical data must be hard-coded"
   ],
   "cell_type": "markdown",
   "metadata": {}
  },
  {
   "cell_type": "code",
   "execution_count": 86,
   "metadata": {},
   "outputs": [
    {
     "output_type": "execute_result",
     "data": {
      "text/plain": [
       "\"variables of interest are ['latitude', 'longitude', 'time', 'top_of_interval', 'bottom_of_interval', 'borehole', 'cryostructures', 'visible_ice', 'ASTM_2488']\""
      ]
     },
     "metadata": {},
     "execution_count": 86
    }
   ],
   "source": [
    "coordinates = erddap.get_var_by_attr(\n",
    "            dataset_id=\"ntgs-AC\",\n",
    "            axis=lambda v: v in [\"X\", \"Y\", \"T\"]\n",
    "        )\n",
    "\n",
    "interval = ['top_of_interval', 'bottom_of_interval']\n",
    "data_variables = ['borehole', 'cryostructures', 'visible_ice', 'ASTM_2488']\n",
    "\n",
    "f\"variables of interest are {coordinates + interval + data_variables}\""
   ]
  },
  {
   "cell_type": "code",
   "execution_count": 87,
   "metadata": {},
   "outputs": [
    {
     "output_type": "execute_result",
     "data": {
      "text/plain": [
       "      latitude  longitude                  time  top_of_interval  \\\n",
       "2     69.16162 -133.08682  2012-03-21T00:00:00Z  1.4               \n",
       "3     69.16162 -133.08682  2012-03-21T00:00:00Z  2.4               \n",
       "4     69.16105 -133.08880  2012-03-21T00:00:00Z  0.0               \n",
       "5     69.16105 -133.08880  2012-03-21T00:00:00Z  2.4               \n",
       "6     69.16105 -133.08880  2012-03-21T00:00:00Z  5.5               \n",
       "...        ...        ...                   ...  ...               \n",
       "2656  69.10868 -133.08197  2013-04-20T00:00:00Z  0.2               \n",
       "2666  69.10802 -133.08230  2013-04-20T00:00:00Z  0.3               \n",
       "2676  69.16827 -133.03706  2013-04-20T00:00:00Z  0.1               \n",
       "2678  69.16827 -133.03706  2013-04-20T00:00:00Z  2.3               \n",
       "2705  68.37424 -133.70628  2013-04-25T00:00:00Z  0.0               \n",
       "\n",
       "      bottom_of_interval           borehole cryostructures     visible_ice  \\\n",
       "2     2.40                170-1-10           Nf             No visible ice   \n",
       "3     8.40                170-1-10           Nf             No visible ice   \n",
       "4     2.40                170-1-12           Nf             No visible ice   \n",
       "5     5.50                170-1-12           Nf             No visible ice   \n",
       "6     6.70                170-1-12           Nf             No visible ice   \n",
       "...    ...                     ...           ..                        ...   \n",
       "2656  0.75                W14103137-CRA12N   Vr             Medium to high   \n",
       "2666  0.95                W14103137-CRA12S   Vx/Vr          Medium to high   \n",
       "2676  1.40                W14103137-CRA3N    Vx/Vr          Medium to high   \n",
       "2678  2.40                W14103137-CRA3N    Vx/Vr          Medium to high   \n",
       "2705  0.10                W14103137-S6-BH02  Vx             None             \n",
       "\n",
       "     ASTM_2488  \n",
       "2     SW-SM     \n",
       "3     GW-GM     \n",
       "4     GP-GM     \n",
       "5     SM        \n",
       "6     ICE       \n",
       "...   ...       \n",
       "2656  PEAT      \n",
       "2666  PEAT      \n",
       "2676  PEAT      \n",
       "2678  PEAT      \n",
       "2705  ORGANICS  \n",
       "\n",
       "[1383 rows x 9 columns]"
      ],
      "text/html": "<div>\n<style scoped>\n    .dataframe tbody tr th:only-of-type {\n        vertical-align: middle;\n    }\n\n    .dataframe tbody tr th {\n        vertical-align: top;\n    }\n\n    .dataframe thead th {\n        text-align: right;\n    }\n</style>\n<table border=\"1\" class=\"dataframe\">\n  <thead>\n    <tr style=\"text-align: right;\">\n      <th></th>\n      <th>latitude</th>\n      <th>longitude</th>\n      <th>time</th>\n      <th>top_of_interval</th>\n      <th>bottom_of_interval</th>\n      <th>borehole</th>\n      <th>cryostructures</th>\n      <th>visible_ice</th>\n      <th>ASTM_2488</th>\n    </tr>\n  </thead>\n  <tbody>\n    <tr>\n      <th>2</th>\n      <td>69.16162</td>\n      <td>-133.08682</td>\n      <td>2012-03-21T00:00:00Z</td>\n      <td>1.4</td>\n      <td>2.40</td>\n      <td>170-1-10</td>\n      <td>Nf</td>\n      <td>No visible ice</td>\n      <td>SW-SM</td>\n    </tr>\n    <tr>\n      <th>3</th>\n      <td>69.16162</td>\n      <td>-133.08682</td>\n      <td>2012-03-21T00:00:00Z</td>\n      <td>2.4</td>\n      <td>8.40</td>\n      <td>170-1-10</td>\n      <td>Nf</td>\n      <td>No visible ice</td>\n      <td>GW-GM</td>\n    </tr>\n    <tr>\n      <th>4</th>\n      <td>69.16105</td>\n      <td>-133.08880</td>\n      <td>2012-03-21T00:00:00Z</td>\n      <td>0.0</td>\n      <td>2.40</td>\n      <td>170-1-12</td>\n      <td>Nf</td>\n      <td>No visible ice</td>\n      <td>GP-GM</td>\n    </tr>\n    <tr>\n      <th>5</th>\n      <td>69.16105</td>\n      <td>-133.08880</td>\n      <td>2012-03-21T00:00:00Z</td>\n      <td>2.4</td>\n      <td>5.50</td>\n      <td>170-1-12</td>\n      <td>Nf</td>\n      <td>No visible ice</td>\n      <td>SM</td>\n    </tr>\n    <tr>\n      <th>6</th>\n      <td>69.16105</td>\n      <td>-133.08880</td>\n      <td>2012-03-21T00:00:00Z</td>\n      <td>5.5</td>\n      <td>6.70</td>\n      <td>170-1-12</td>\n      <td>Nf</td>\n      <td>No visible ice</td>\n      <td>ICE</td>\n    </tr>\n    <tr>\n      <th>...</th>\n      <td>...</td>\n      <td>...</td>\n      <td>...</td>\n      <td>...</td>\n      <td>...</td>\n      <td>...</td>\n      <td>...</td>\n      <td>...</td>\n      <td>...</td>\n    </tr>\n    <tr>\n      <th>2656</th>\n      <td>69.10868</td>\n      <td>-133.08197</td>\n      <td>2013-04-20T00:00:00Z</td>\n      <td>0.2</td>\n      <td>0.75</td>\n      <td>W14103137-CRA12N</td>\n      <td>Vr</td>\n      <td>Medium to high</td>\n      <td>PEAT</td>\n    </tr>\n    <tr>\n      <th>2666</th>\n      <td>69.10802</td>\n      <td>-133.08230</td>\n      <td>2013-04-20T00:00:00Z</td>\n      <td>0.3</td>\n      <td>0.95</td>\n      <td>W14103137-CRA12S</td>\n      <td>Vx/Vr</td>\n      <td>Medium to high</td>\n      <td>PEAT</td>\n    </tr>\n    <tr>\n      <th>2676</th>\n      <td>69.16827</td>\n      <td>-133.03706</td>\n      <td>2013-04-20T00:00:00Z</td>\n      <td>0.1</td>\n      <td>1.40</td>\n      <td>W14103137-CRA3N</td>\n      <td>Vx/Vr</td>\n      <td>Medium to high</td>\n      <td>PEAT</td>\n    </tr>\n    <tr>\n      <th>2678</th>\n      <td>69.16827</td>\n      <td>-133.03706</td>\n      <td>2013-04-20T00:00:00Z</td>\n      <td>2.3</td>\n      <td>2.40</td>\n      <td>W14103137-CRA3N</td>\n      <td>Vx/Vr</td>\n      <td>Medium to high</td>\n      <td>PEAT</td>\n    </tr>\n    <tr>\n      <th>2705</th>\n      <td>68.37424</td>\n      <td>-133.70628</td>\n      <td>2013-04-25T00:00:00Z</td>\n      <td>0.0</td>\n      <td>0.10</td>\n      <td>W14103137-S6-BH02</td>\n      <td>Vx</td>\n      <td>None</td>\n      <td>ORGANICS</td>\n    </tr>\n  </tbody>\n</table>\n<p>1383 rows × 9 columns</p>\n</div>"
     },
     "metadata": {},
     "execution_count": 87
    }
   ],
   "source": [
    "search_parameters = {'variables' : coordinates + interval + data_variables,\n",
    "                    'response' : 'csv',\n",
    "                    'dataset_id' : \"ntgs-AC\"\n",
    "                    }\n",
    "\n",
    "data_url = erddap.get_download_url(**search_parameters)  \n",
    "data = pd.read_csv(data_url, skiprows=(1,)).dropna()\n",
    "data"
   ]
  },
  {
   "source": [],
   "cell_type": "markdown",
   "metadata": {}
  },
  {
   "source": [
    "<a name=\"citation\"></a>\n",
    "# Citing a dataset\n",
    "\n",
    "If you intend to use data for a project or publication, is is important that you cite it properly. Dataset attributes can be used to find the publication(s) and authors(s) responsible for creating the dataset.  \n"
   ],
   "cell_type": "markdown",
   "metadata": {}
  },
  {
   "cell_type": "code",
   "execution_count": 69,
   "metadata": {},
   "outputs": [
    {
     "output_type": "execute_result",
     "data": {
      "text/plain": [
       "      Attribute Name  \\\n",
       "2   contributor_name   \n",
       "3   contributor_role   \n",
       "7   creator_name       \n",
       "34  publisher_name     \n",
       "37  references         \n",
       "\n",
       "                                                                                                                                                                                                                                                                                      Value  \n",
       "2   Ariane Castagner,Steve Kokelj,Stephan Gruber,Kiggiak-EBA Consulting Ltd.,Kavik-Stantec Inc.                                                                                                                                                                                              \n",
       "3   coAuthor,coAuthor,coAuthor,contributor,contributor                                                                                                                                                                                                                                       \n",
       "7   Ariane Castagner                                                                                                                                                                                                                                                                         \n",
       "34  Northwest Territories Geological Survey                                                                                                                                                                                                                                                  \n",
       "37  Castagner, A., Kokelj, S.V., Gruber, S., 2021. Permafrost Geotechnical Data Report: Cryostratigraphic Synthesis of Inuvik to Tuktoyaktuk Highway Corridor Geotechnical Boreholes (2012-2017). NWT Open Report 2021-XXX, Northwest Territories Geological Survey, Yellowknife, NT, 17 p.  "
      ],
      "text/html": "<div>\n<style scoped>\n    .dataframe tbody tr th:only-of-type {\n        vertical-align: middle;\n    }\n\n    .dataframe tbody tr th {\n        vertical-align: top;\n    }\n\n    .dataframe thead th {\n        text-align: right;\n    }\n</style>\n<table border=\"1\" class=\"dataframe\">\n  <thead>\n    <tr style=\"text-align: right;\">\n      <th></th>\n      <th>Attribute Name</th>\n      <th>Value</th>\n    </tr>\n  </thead>\n  <tbody>\n    <tr>\n      <th>2</th>\n      <td>contributor_name</td>\n      <td>Ariane Castagner,Steve Kokelj,Stephan Gruber,Kiggiak-EBA Consulting Ltd.,Kavik-Stantec Inc.</td>\n    </tr>\n    <tr>\n      <th>3</th>\n      <td>contributor_role</td>\n      <td>coAuthor,coAuthor,coAuthor,contributor,contributor</td>\n    </tr>\n    <tr>\n      <th>7</th>\n      <td>creator_name</td>\n      <td>Ariane Castagner</td>\n    </tr>\n    <tr>\n      <th>34</th>\n      <td>publisher_name</td>\n      <td>Northwest Territories Geological Survey</td>\n    </tr>\n    <tr>\n      <th>37</th>\n      <td>references</td>\n      <td>Castagner, A., Kokelj, S.V., Gruber, S., 2021. Permafrost Geotechnical Data Report: Cryostratigraphic Synthesis of Inuvik to Tuktoyaktuk Highway Corridor Geotechnical Boreholes (2012-2017). NWT Open Report 2021-XXX, Northwest Territories Geological Survey, Yellowknife, NT, 17 p.</td>\n    </tr>\n  </tbody>\n</table>\n</div>"
     },
     "metadata": {},
     "execution_count": 69
    }
   ],
   "source": [
    "info_url = erddap.get_info_url(dataset_id=\"ntgs-AC\", response='csv')\n",
    "\n",
    "info = pd.read_csv(info_url)\n",
    "info.loc[info[\"Attribute Name\"].isin([\"references\", \"publisher_name\", \"creator_name\", \"contributor_name\", \"contributor_role\"]) ,\n",
    "         [\"Attribute Name\", \"Value\"]]"
   ]
  },
  {
   "cell_type": "code",
   "execution_count": null,
   "metadata": {},
   "outputs": [],
   "source": []
  },
  {
   "cell_type": "code",
   "execution_count": null,
   "metadata": {},
   "outputs": [],
   "source": []
  }
 ]
}