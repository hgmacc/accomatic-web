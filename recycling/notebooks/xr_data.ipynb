{
 "cells": [
  {
   "cell_type": "markdown",
   "metadata": {},
   "source": [
    "# Let's read in our data and take a look at which variables we have.\n"
   ]
  },
  {
   "cell_type": "code",
   "execution_count": 13,
   "metadata": {
    "pycharm": {
     "is_executing": true
    }
   },
   "outputs": [],
   "source": [
    "import xarray as xr\n",
    "import pandas as pd\n",
    "import matplotlib.pyplot as plt\n",
    "import numpy as np\n",
    "\n",
    "\n",
    "\n",
    "# f = xr.open_mfdataset('/home/hma000/accomatic-web/tests/test_data/nc/obs_85_gst.nc')\n"
   ]
  },
  {
   "cell_type": "code",
   "execution_count": 1,
   "metadata": {},
   "outputs": [],
   "source": [
    "try: f.close()\n",
    "except: pass\n",
    "year = 1980\n",
    "f = xr.open_mfdataset(f'/home/hma000/storage/yk_kdi_ldg/scaled/scaled_era5_1h_{year}.nc')\n",
    "df = f.to_pandas()\n",
    "print(df.head())"
   ]
  },
  {
   "cell_type": "code",
   "execution_count": null,
   "metadata": {},
   "outputs": [
    {
     "ename": "",
     "evalue": "",
     "output_type": "error",
     "traceback": [
      "\u001b[1;31mFailed to start the Kernel. \n",
      "\u001b[1;31mUnable to start Kernel 'acco (Python 3.9.17)' due to a timeout waiting for the ports to get used. \n",
      "\u001b[1;31mView Jupyter <a href='command:jupyter.viewOutput'>log</a> for further details."
     ]
    }
   ],
   "source": [
    "f2 = xr.open_mfdataset('/home/hma000/storage/yk_kdi_ldg/scaled/scaled_era5_1h_1980.nc', engine=\"netcdf4\")\n",
    "for i in ['merra2','jra55']:\n",
    "    f = xr.open_mfdataset(f'/fs/yedoma/data/globsim/YK-KDI-LDG_scaled_for_geotop/scaled_{i}_1h.nc', engine=\"netcdf4\")\n",
    "    f['station_name'] = f2['station_name']\n",
    "    f.to_netcdf(path=f'/fs/yedoma/data/globsim/YK-KDI-LDG_scaled_for_geotop/scaled_{i}_1h_stn.nc', mode='w')\n",
    "    f.close()\n",
    "    print(f\"{i} is complete. \")\n",
    "f2.close()"
   ]
  },
  {
   "cell_type": "markdown",
   "metadata": {},
   "source": [
    "# To a dataframe"
   ]
  },
  {
   "cell_type": "markdown",
   "metadata": {},
   "source": [
    "\n",
    "\n",
    "# Info required:\n",
    "For GST, 0.50m and 1.0m\n",
    "- Number of sites, number of years for each cluster\n",
    "        Of the 85 plots we have observational data for, X have observations at 0.5 m and Y have observations at 1.0 m depth.\n",
    "\n",
    "Missing data\n",
    "of all timeseries; how many have complete years? How much do we increase the amount of data we have by using months? \n",
    "\n"
   ]
  },
  {
   "cell_type": "code",
   "execution_count": 4,
   "metadata": {},
   "outputs": [],
   "source": [
    "f = xr.open_mfdataset('/home/hma000/storage/yk_kdi_ldg/scaled/.nc', engine=\"netcdf4\")\n",
    "df = f.to_dataframe()\n",
    "df = df.reset_index(drop=False)\n",
    "df = df.drop(columns=['latitude', 'longitude','elevation','station'])\n",
    "df.platform_id = [line.decode(\"utf-8\") for line in df.platform_id]\n",
    "df.platform_id = [line.split(\"_\")[0] for line in df.platform_id.str[:]]\n",
    "# ROCK1A -> ROCK1\n",
    "df.platform_id = [line.rstrip(\"ABC\") for line in df.platform_id.str[:]]\n",
    "\n",
    "#df = df.dropna()\n",
    "df = df.set_index(pd.DatetimeIndex(df.time)).drop(columns='time')\n",
    "\n",
    "df[\"temp_site_date\"] = df.platform_id + df.index.astype(str)\n",
    "df.soil_temperature = df.groupby(\"temp_site_date\")[\"soil_temperature\"].transform(\"mean\")\n",
    "\n",
    "df = df.drop_duplicates(subset=[\"temp_site_date\"], keep=\"first\").drop(columns='temp_site_date')\n",
    "\n",
    "\n",
    "df = df.rename(columns={\"soil_temperature\": \"obs\"})\n",
    "df['clust'] = df['platform_id'].str[:2]\n",
    "df.clust.replace(['RO','Bu'], 'NG', inplace=True)\n",
    "all_data = df.dropna()\n"
   ]
  },
  {
   "cell_type": "code",
   "execution_count": 43,
   "metadata": {},
   "outputs": [],
   "source": [
    "def missing(df):\n",
    "    years_site = 0\n",
    "    months_site = 0\n",
    "    for year in df.index.year.unique():\n",
    "        d_year = df[df.index.year == year]\n",
    "        diff = len(pd.date_range(start=f'{year}/01/01', end=f'{year}/12/31').difference(d_year.index))\n",
    "        \n",
    "        if diff > 0:\n",
    "            for month in d_year.index.month.unique():\n",
    "                d_month = d_year[d_year.index.month == month]\n",
    "                if len(pd.date_range(start=f'{year}/{month}/01', end=f'{year}/{month}/28').difference(d_month.index)) == 0:\n",
    "                    months_site = months_site + 1\n",
    "                    \n",
    "        else:\n",
    "            years_site = years_site + 1\n",
    "    return(f\"{years_site},{months_site}\")\n",
    "\n",
    "\n",
    "df = all_data.dropna()\n",
    "\n",
    "# print(missing(df))\n",
    "# KDI-W-Wet2 34 133\n",
    "\n",
    "write_file = \"missing_data.csv\"\n",
    "with open(write_file, \"wt\", encoding=\"utf-8\") as output:\n",
    "    output.write('clust,sitename,years,months,depth\\n')\n",
    "    for clust in df.clust.unique():\n",
    "        d = df[df.clust == clust]\n",
    "        for depth in d.depth.unique():\n",
    "            if depth > 0.001:\n",
    "                dd = d[d.depth == depth]\n",
    "                for site in dd.platform_id.unique():\n",
    "                    data = missing(dd[dd.platform_id == site])\n",
    "                    # missing(dd) = \" tot_years, tot_months \"\n",
    "                    line = f'{clust},{site},{missing(dd)},{str(round(depth, 2))}'\n",
    "                    output.write(line + '\\n')\n"
   ]
  },
  {
   "cell_type": "code",
   "execution_count": 54,
   "metadata": {},
   "outputs": [
    {
     "name": "stdout",
     "output_type": "stream",
     "text": [
      "  clust     sitename  years  months  depth\n",
      "0    NG   NGO-RC-169      6      13    0.1\n",
      "1    NG  Bushloggers      6      13    0.1\n",
      "2    NG   NGO-RC-170      6      13    0.1\n",
      "3    NG   NGO-RC-171      6      13    0.1\n",
      "4    NG   NGO-RC-162      6      13    0.1\n",
      "Across all three clusters recording ground temperatures, there are 73 GST plots and 12 plots with boreholes recording data at 0.50 m depth. \n",
      "There are a total of 394 complete years of data across all GST plots (LDG: 270, KDI: 24, YK: 100), and 36 complete years of 0.50 m data.\n",
      "If only complete years of data are to be used for model evaluation, there are an additional 941 months (78.4 years) of GST data that could contribute to model evaluation. Additionally, there are 144 months (12.0 years) of ground temperature data at 0.50 m depth. Through subsetting observational data by month, and bootstrapping the sorted data, we are able to produce confidence intervals around model results that reflect the amount of data being used.\n"
     ]
    }
   ],
   "source": [
    "df = pd.read_csv('missing_data.csv')\n",
    "print(df.head())\n",
    "\n",
    "df01 = df[df.depth == 0.1]\n",
    "df05 = df[df.depth == 0.5]\n",
    "\n",
    "out1 = f\"Across all three clusters recording ground temperatures, there are {len(df01)} GST plots and {len(df05)} plots with boreholes recording data at 0.50 m depth. \"\n",
    "\n",
    "\n",
    "out2 = f\"There are a total of {df01.years.sum()} complete years of data across all GST plots (LDG: {df01[df01.clust == 'NG'].years.sum()}, KDI: {df01[df01.clust == 'KD'].years.sum()}, YK: {df01[df01.clust == 'YK'].years.sum()}), and {df[df.depth == 0.5].years.sum()} complete years of 0.50 m data.\"\n",
    "\n",
    "out3 = f\"If only complete years of data are to be used for model evaluation, there are an additional {df01.months.sum()} months ({round(df01.months.sum()/12, 1)} years) of GST data that could contribute to model evaluation. Additionally, there are {df05.months.sum()} months ({round(df05.months.sum()/12, 1)} years) of ground temperature data at 0.50 m depth. Through subsetting observational data by month, and bootstrapping the sorted data, we are able to produce confidence intervals around model results that reflect the amount of data being used.\"\n",
    "\n",
    "print(out1)\n",
    "print(out2)\n",
    "print(out3)\n",
    "\n",
    "\n"
   ]
  },
  {
   "cell_type": "markdown",
   "metadata": {},
   "source": [
    "# Now pull out variables & explore their dimensions and shape."
   ]
  },
  {
   "cell_type": "code",
   "execution_count": 8,
   "metadata": {
    "pycharm": {
     "name": "#%%\n"
    }
   },
   "outputs": [
    {
     "name": "stdout",
     "output_type": "stream",
     "text": [
      "Index(['time', 'station', 'PRESS_pl', 'AIRT_pl', 'AIRT_sur', 'PREC_sur',\n",
      "       '_sur', 'RH_sur', 'WSPD_sur', 'WDIR_sur', 'SW_sur', 'LW_sur',\n",
      "       'SH_sur'],\n",
      "      dtype='object')\n"
     ]
    },
    {
     "ename": "SystemExit",
     "evalue": "",
     "output_type": "error",
     "traceback": [
      "An exception has occurred, use %tb to see the full traceback.\n",
      "\u001b[0;31mSystemExit\u001b[0m\n"
     ]
    },
    {
     "name": "stderr",
     "output_type": "stream",
     "text": [
      "/home/hma000/.conda/envs/acco/lib/python3.9/site-packages/IPython/core/interactiveshell.py:3516: UserWarning: To exit: use 'exit', 'quit', or Ctrl-D.\n",
      "  warn(\"To exit: use 'exit', 'quit', or Ctrl-D.\", stacklevel=1)\n"
     ]
    }
   ],
   "source": [
    "files = ['/home/hma000/storage/yk_kdi_ldg/scaled/temp/scaled_merra2_1h_198.nc']\n",
    "pth = ''#'/home/hma000/storage/scaled/'\n",
    "l = []\n",
    "for file in files:\n",
    "    f = xr.open_mfdataset(f'{pth}{file}')\n",
    "    df = f.to_dataframe().reset_index()\n",
    "    print(df.columns)\n",
    "    import sys\n",
    "    sys.exit()\n",
    "    df.station_name = [line.decode(\"utf-8\") for line in df.station_name]\n",
    "    df['clust'] = df['station_name'].str[:2]\n",
    "    df = df[[\"time\",\"clust\", \"PREC_sur\", \"AIRT_sur\"]]\n",
    "    df['reanal'] = file.split('_')[2]\n",
    "    l.append(df)\n",
    "\n",
    "df = pd.concat(l)\n",
    "df = df[[\"time\",\"clust\", \"PREC_sur\", \"AIRT_sur\", \"reanal\"]].set_index(\"time\")\n",
    "df.clust.replace('RO', 'NG', inplace=True)\n",
    "\n",
    "\n"
   ]
  },
  {
   "cell_type": "code",
   "execution_count": 105,
   "metadata": {},
   "outputs": [],
   "source": [
    "#df = pd.read_csv(\"reanal_data.csv\", index_col='time')\n",
    "\n",
    "write_file = \"reanal_data_summary.csv\"\n",
    "with open(write_file, \"wt\", encoding=\"utf-8\") as output:\n",
    "    output.write('clust,reanalysis,AIRT_sur,PREC_sur\\n')\n",
    "    \n",
    "    for clust in df.clust.unique():\n",
    "        df_cluster = df[df.clust == clust].drop(columns = 'clust')\n",
    "        df_cluster.index = pd.to_datetime(df_cluster.index)\n",
    "        for data in df.reanal.unique():\n",
    "            df_reanal = df_cluster[df_cluster.reanal == data].drop(columns='reanal')\n",
    "            df_reanal[\"day-month\"] = df_reanal.index.strftime(\"%m-%d\")\n",
    "            df_reanal = df_reanal.groupby([\"day-month\"]).mean()\n",
    "            \n",
    "            output.write(f\"{clust},{data},{df[df.clust == clust].AIRT_sur.mean()},{df_reanal.PREC_sur.sum() * 86400}\")\n",
    "\n",
    "# YK merra2 -4.2771428683012 2347.816817827837\n",
    "# YK jra55 -4.2771428683012 404.3426425200845\n",
    "# YK era5 -4.2771428683012 300.2302638794914\n",
    "# KD merra2 -7.907279057622825 672.3679007197125\n",
    "# KD jra55 -7.907279057622825 470.5752570706752\n",
    "# KD era5 -7.907279057622825 390.987822480963\n",
    "# NG merra2 -8.046546125527518 537.2239179484735\n",
    "# NG jra55 -8.046546125527518 447.7038535511782\n",
    "# NG era5 -8.046546125527518 399.3422557350242"
   ]
  },
  {
   "cell_type": "code",
   "execution_count": null,
   "metadata": {},
   "outputs": [],
   "source": []
  },
  {
   "cell_type": "code",
   "execution_count": null,
   "metadata": {},
   "outputs": [],
   "source": [
    "df.info"
   ]
  },
  {
   "cell_type": "code",
   "execution_count": 22,
   "metadata": {},
   "outputs": [
    {
     "data": {
      "image/png": "[encoded data removed]",
      "text/plain": [
       "<Figure size 432x288 with 1 Axes>"
      ]
     },
     "metadata": {},
     "output_type": "display_data"
    }
   ],
   "source": [
    "f, ax = plt.subplots()\n",
    "df.unstack()\n",
    "sns.violinplot(data=df)\n",
    "sns.despine(offset=10, trim=True)"
   ]
  },
  {
   "cell_type": "code",
   "execution_count": 50,
   "metadata": {},
   "outputs": [
    {
     "data": {
      "image/png": "[encoded data removed]",
      "text/plain": [
       "<Figure size 432x288 with 1 Axes>"
      ]
     },
     "metadata": {
      "needs_background": "light"
     },
     "output_type": "display_data"
    }
   ],
   "source": [
    "import matplotlib.pyplot as plt\n",
    "\n",
    "f.soil_temperature[1, :].plot(color='#008080', linewidth=1.5)\n",
    "f.soil_temperature[2, :].plot(color='#F3700E', linewidth=1.5)\n",
    "f.soil_temperature[3, :].plot(color='#F50B00', linewidth=1.5)\n",
    "\n",
    "plt.savefig(\"timeseries_obs.pdf\",transparent=True)"
   ]
  },
  {
   "cell_type": "markdown",
   "metadata": {},
   "source": [
    "# Right now temp and time are _variables_ If we want to actually access this data, we use \"[ ]\":"
   ]
  },
  {
   "cell_type": "code",
   "execution_count": 18,
   "metadata": {
    "pycharm": {
     "name": "#%%\n"
    }
   },
   "outputs": [
    {
     "name": "stdout",
     "output_type": "stream",
     "text": [
      "Temp data looks like: <xarray.DataArray 'soil_temperature' ()>\n",
      "array(13.1268)\n",
      "Coordinates:\n",
      "    time     datetime64[ns] 2017-07-12\n",
      "Attributes:\n",
      "    units:          degrees_C\n",
      "    long_name:      Near-surface ground temperature\n",
      "    coordinates:    station_name time height latitude longitude\n",
      "    standard_name:  soil_temperature\n",
      "    grid_mapping:   crs (Units: degrees_C)\n",
      "Our time data is from <xarray.DataArray 'time' ()>\n",
      "array('2017-07-12T00:00:00.000000000', dtype='datetime64[ns]')\n",
      "Coordinates:\n",
      "    time     datetime64[ns] 2017-07-12\n",
      "Attributes:\n",
      "    long_name:      time\n",
      "    standard_name:  time\n",
      "    axis:           T\n",
      "    cf_role:        profile_id to <xarray.DataArray 'time' ()>\n",
      "array('2021-08-22T00:00:00.000000000', dtype='datetime64[ns]')\n",
      "Coordinates:\n",
      "    time     datetime64[ns] 2021-08-22\n",
      "Attributes:\n",
      "    long_name:      time\n",
      "    standard_name:  time\n",
      "    axis:           T\n",
      "    cf_role:        profile_id\n"
     ]
    }
   ],
   "source": [
    "print(\"Temp data looks like: %s (Units: %s)\" % (temp[0,0], temp.units)) # Simulation_index = 0, depth_index = 0\n",
    "print('Our time data is from %s to %s' % (time[0], time[-1]))"
   ]
  },
  {
   "cell_type": "markdown",
   "metadata": {},
   "source": [
    "# What is the time extent of our data? How can we reformat this ugly bs?"
   ]
  },
  {
   "cell_type": "code",
   "execution_count": 30,
   "metadata": {
    "pycharm": {
     "name": "#%%\n"
    }
   },
   "outputs": [
    {
     "name": "stdout",
     "output_type": "stream",
     "text": [
      "Or, in other words: 1990-01-01 02:00:00 to 1990-01-01 03:00:00\n"
     ]
    }
   ],
   "source": [
    "from netCDF4 import num2date\n",
    "\n",
    "start, end = [date.strftime('%Y-%m-%d %H:%M:%S') for date in num2date(time[:2], time.units)]\n",
    "print('Or, in other words: %s to %s' % (start, end))"
   ]
  },
  {
   "cell_type": "markdown",
   "metadata": {},
   "source": [
    "# How can I plot this? Let's say, temperature at 0.1m depth in 1991."
   ]
  },
  {
   "cell_type": "markdown",
   "metadata": {},
   "source": [
    "First, we have to pick out our desired time extent."
   ]
  },
  {
   "cell_type": "code",
   "execution_count": 31,
   "metadata": {
    "pycharm": {
     "name": "#%%\n"
    }
   },
   "outputs": [
    {
     "name": "stdout",
     "output_type": "stream",
     "text": [
      "1970-01-01T00:00:00\n"
     ]
    }
   ],
   "source": [
    "from datetime import datetime\n",
    "import numpy as np\n",
    "\n",
    "year = 1991\n",
    "#mdates.set_epoch('0001-01-01T00:00')\n",
    "print(mdates.get_epoch())\n",
    "#if mdates.get_epoch() != '0001-01-01T00:00': mdates.set_epoch('0001-01-01T00:00')"
   ]
  },
  {
   "cell_type": "markdown",
   "metadata": {},
   "source": [
    "# Nice! Now, time to plot 1991 temp data."
   ]
  },
  {
   "cell_type": "code",
   "execution_count": 32,
   "metadata": {
    "pycharm": {
     "name": "#%%\n"
    }
   },
   "outputs": [
    {
     "data": {
      "image/png": "[encoded data removed]",
      "text/plain": [
       "<Figure size 432x288 with 1 Axes>"
      ]
     },
     "metadata": {
      "needs_background": "light"
     },
     "output_type": "display_data"
    }
   ],
   "source": [
    "import matplotlib.pyplot as plt\n",
    "\n",
    "start = (datetime(year, 1, 1, 0, 0, 0) - datetime(1, 1, 1, 0, 0, 0)).total_seconds() / 86400\n",
    "end = (datetime(year, 12, 31, 23, 0, 0) - datetime(1, 1, 1, 0, 0, 0)).total_seconds() / 86400\n",
    "time_select = np.logical_and(time[:] > start, time[:] < end)\n",
    "\n",
    "data = temp[0, time_select, 0] # data = temp[simulation_index, time_select, depth_index]\n",
    "plt.title(\"%s Ground temperature data at KDI site\" % year)\n",
    "plt.plot(mdates.num2date(time[time_select]), data[:])\n",
    "plt.show()"
   ]
  },
  {
   "cell_type": "markdown",
   "metadata": {},
   "source": [
    "What if we want to add a new variable to our dataset?\n",
    "open a new dataset"
   ]
  },
  {
   "cell_type": "code",
   "execution_count": 33,
   "metadata": {
    "pycharm": {
     "name": "#%%\n"
    }
   },
   "outputs": [
    {
     "ename": "IndexError",
     "evalue": "acco not found in /",
     "output_type": "error",
     "traceback": [
      "\u001b[0;31m---------------------------------------------------------------------------\u001b[0m",
      "\u001b[0;31mIndexError\u001b[0m                                Traceback (most recent call last)",
      "Input \u001b[0;32mIn [33]\u001b[0m, in \u001b[0;36m<cell line: 7>\u001b[0;34m()\u001b[0m\n\u001b[1;32m      1\u001b[0m \u001b[38;5;66;03m# .nc file has groups of simulations -> each group has data for each site\u001b[39;00m\n\u001b[1;32m      2\u001b[0m \u001b[38;5;66;03m# geotop_merra: site1, site2, site3\u001b[39;00m\n\u001b[1;32m      3\u001b[0m \u001b[38;5;66;03m# geotop_jra: site1, site2, site3\u001b[39;00m\n\u001b[1;32m      4\u001b[0m \u001b[38;5;66;03m# geotop_erai: site1, site2, site3\u001b[39;00m\n\u001b[1;32m      5\u001b[0m \u001b[38;5;66;03m# acco: site1, site2, site3\u001b[39;00m\n\u001b[0;32m----> 7\u001b[0m acco \u001b[38;5;241m=\u001b[39m \u001b[43mncfile\u001b[49m\u001b[43m[\u001b[49m\u001b[38;5;124;43m'\u001b[39;49m\u001b[38;5;124;43macco\u001b[39;49m\u001b[38;5;124;43m'\u001b[39;49m\u001b[43m]\u001b[49m\n\u001b[1;32m      8\u001b[0m \u001b[38;5;28;01mif\u001b[39;00m \u001b[38;5;124m'\u001b[39m\u001b[38;5;124mnchars\u001b[39m\u001b[38;5;124m'\u001b[39m \u001b[38;5;129;01mnot\u001b[39;00m \u001b[38;5;129;01min\u001b[39;00m acco\u001b[38;5;241m.\u001b[39mdimensions\u001b[38;5;241m.\u001b[39mkeys():\n\u001b[1;32m      9\u001b[0m     acco\u001b[38;5;241m.\u001b[39mcreateDimension(\u001b[38;5;124m'\u001b[39m\u001b[38;5;124mnchars\u001b[39m\u001b[38;5;124m'\u001b[39m, f\u001b[38;5;241m.\u001b[39mdimensions[\u001b[38;5;124m'\u001b[39m\u001b[38;5;124mnchars\u001b[39m\u001b[38;5;124m'\u001b[39m]\u001b[38;5;241m.\u001b[39msize)\n",
      "File \u001b[0;32msrc/netCDF4/_netCDF4.pyx:2363\u001b[0m, in \u001b[0;36mnetCDF4._netCDF4.Dataset.__getitem__\u001b[0;34m()\u001b[0m\n",
      "\u001b[0;31mIndexError\u001b[0m: acco not found in /"
     ]
    }
   ],
   "source": [
    "# .nc file has groups of simulations -> each group has data for each site\n",
    "# geotop_merra: site1, site2, site3\n",
    "# geotop_jra: site1, site2, site3\n",
    "# geotop_erai: site1, site2, site3\n",
    "# acco: site1, site2, site3\n",
    "\n",
    "acco = ncfile['acco']\n",
    "if 'nchars' not in acco.dimensions.keys():\n",
    "    acco.createDimension('nchars', f.dimensions['nchars'].size)\n",
    "\n",
    "if 'simulation' not in acco.dimensions.keys():\n",
    "    acco.createDimension('simulation', f.dimensions['simulation'].size)\n",
    "\n",
    "if 'simulation' not in acco.variables.keys():\n",
    "    acco.createVariable('simulation', f.variables['simulation'].datatype, f.variables['simulation'].dimensions)\n",
    "    acco.variables['simulation'] = f.variables['simulation']\n",
    "\n",
    "if 'time' not in acco.dimensions.keys():\n",
    "    acco.createDimension('time', f.dimensions['time'].size)\n",
    "\n",
    "if 'Date' not in acco.variables.keys():\n",
    "    acco.createVariable('Date', f.variables['Date'].datatype, f.variables['Date'].dimensions)\n",
    "    acco.variables['Date'] = f.variables['Date']"
   ]
  },
  {
   "cell_type": "code",
   "execution_count": 26,
   "metadata": {
    "pycharm": {
     "name": "#%%\n"
    }
   },
   "outputs": [],
   "source": [
    "ncfile.close()"
   ]
  },
  {
   "cell_type": "code",
   "execution_count": null,
   "metadata": {},
   "outputs": [],
   "source": []
  }
 ],
 "metadata": {
  "kernelspec": {
   "display_name": "Python 3.9.12 ('acco')",
   "language": "python",
   "name": "python3"
  },
  "language_info": {
   "codemirror_mode": {
    "name": "ipython",
    "version": 3
   },
   "file_extension": ".py",
   "mimetype": "text/x-python",
   "name": "python",
   "nbconvert_exporter": "python",
   "pygments_lexer": "ipython3",
   "version": "3.9.17"
  },
  "vscode": {
   "interpreter": {
    "hash": "e9e928bd9c9cdfa6955013c6d6fb96ecda3bfe94793204372f8e3f5041cbdff3"
   }
  }
 },
 "nbformat": 4,
 "nbformat_minor": 1
}
