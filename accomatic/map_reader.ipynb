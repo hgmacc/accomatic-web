{
 "cells": [
  {
   "cell_type": "code",
   "execution_count": null,
   "metadata": {},
   "outputs": [],
   "source": [
    "import os\n",
    "import numpy as np\n",
    "from matplotlib import colors, cm\n",
    "import matplotlib.pyplot as plt\n",
    "import rasterio\n",
    "import pyproj\n",
    "import pandas as pd \n",
    "from rasterio.plot import show, show_hist\n",
    "import richdem as rd\n",
    "from matplotlib_scalebar.scalebar import ScaleBar\n",
    "\n",
    "def hex_to_RGB(hex_str):\n",
    "    \"\"\"#FFFFFF -> [255,255,255]\"\"\"\n",
    "    # Pass 16 to the integer function for change of base\n",
    "    return [int(hex_str[i : i + 2], 16) for i in range(1, 6, 2)]\n",
    "\n"
   ]
  },
  {
   "cell_type": "code",
   "execution_count": null,
   "metadata": {},
   "outputs": [],
   "source": [
    "\n",
    "c = 'ldg'\n",
    "dem = rasterio.open(f'/home/hma000/storage/terrain_exp/dem_processed/{c}/{c}_dem_10m_clip.tif')\n",
    "slope = rasterio.open(f'/home/hma000/storage/terrain_exp/dem_processed/{c}/{c}_dem_10m_slope.tif')\n",
    "# aspect = rasterio.open(f'/home/hma000/storage/terrain_exp/dem_processed/{c}/{c}_dem_10m_aspect.tif')\n",
    "# twi = rasterio.open(f'/home/hma000/storage/terrain_exp/dem_processed/{c}/{c}_dem_10m_twi.tif')\n",
    "# con = rasterio.open(f'/home/hma000/storage/terrain_exp/dem_processed/{c}/{c}_dem_10m_con.tif')\n",
    "\n",
    "df = pd.read_csv('/home/hma000/storage/terrain_exp/ykl_coords.csv', usecols=['name','lon','lat', 'elevation_in_metres'])\n",
    "\n",
    "df[\"clust\"] = df[\"name\"].str[:2]\n",
    "df.clust.replace([\"RO\", \"Bu\", \"NG\"], \"ld\", inplace=True)\n",
    "df.clust = [i.lower() for i in df.clust]\n",
    "\n"
   ]
  },
  {
   "cell_type": "markdown",
   "metadata": {},
   "source": [
    "## ELEVATION"
   ]
  },
  {
   "cell_type": "code",
   "execution_count": null,
   "metadata": {},
   "outputs": [],
   "source": [
    "\n",
    "fig, (axrgb, axhist) = plt.subplots(1, 2, figsize=(14,7))\n",
    "\n",
    "data = dem.read()\n",
    "data[data < 0] = np.nan\n",
    "\n",
    "\n",
    "# MAP OF VALUES\n",
    "cmap = plt.get_cmap('Greys')\n",
    "show(data, ax=axrgb, cmap=cmap)\n",
    "fig.colorbar(cm.ScalarMappable(norm=colors.Normalize(vmin=0, vmax=500), cmap=cmap), ax=axrgb)\n",
    "axrgb.set_yticks([])\n",
    "axrgb.set_xticks([])\n",
    "\n",
    "# HISTOGRAM \n",
    "kwargs={'facecolor':'black'}\n",
    "show_hist(data, bins=50, histtype='stepfilled',density=1,\n",
    "          lw=0.0, stacked=False, alpha=0.3, ax=axhist, **kwargs)\n",
    "axhist.set_yticks(ticks=axhist.get_yticks(), labels=[round(i*100) for i in axhist.get_yticks()])\n",
    "axhist.set_ylabel(\"Frequency (%)\")\n",
    "axhist.get_legend().remove()\n",
    "axhist.set_xlabel(\"Elevation (m)\")\n",
    "axhist.set_title('')\n",
    "\n",
    "plt.savefig(f'/home/hma000/accomatic-web/plotting/out/dem/{c}elevation.png',transparent=True)\n",
    "\n",
    "plt.show()\n",
    "plt.clf()"
   ]
  },
  {
   "cell_type": "markdown",
   "metadata": {},
   "source": [
    "## SLOPE"
   ]
  },
  {
   "cell_type": "code",
   "execution_count": null,
   "metadata": {},
   "outputs": [],
   "source": [
    "data = slope.read()\n",
    "data[data < 0] = np.nan\n",
    "\n",
    "fig, (axrgb, axhist) = plt.subplots(1, 2, figsize=(14,7))\n",
    "\n",
    "cmap = plt.get_cmap('copper_r')\n",
    "show(data, transform=dem.transform, ax=axrgb, cmap=cmap)\n",
    "axrgb.set_yticks([])\n",
    "axrgb.set_xticks([])\n",
    "\n",
    "fig.colorbar(cm.ScalarMappable(norm=colors.Normalize(vmin=0, vmax=30), cmap=cmap), ax=axrgb)\n",
    "\n",
    "kwargs = {'facecolor':'#fc6600'}\n",
    "show_hist(data, bins=50, histtype='stepfilled',density=1,\n",
    "          lw=0.0, stacked=False, alpha=0.3, ax=axhist, **kwargs)\n",
    "axhist.set_yticks(ticks=axhist.get_yticks(), labels=[round(i*100) for i in axhist.get_yticks()])\n",
    "axhist.get_legend().remove()\n",
    "axhist.set_ylabel(\"Frequency (%)\")\n",
    "axhist.set_xlabel(\"Slope (degree)\")\n",
    "axhist.set_title('')\n",
    "\n",
    "plt.savefig(f'/home/hma000/accomatic-web/plotting/out/dem/{c}slope.png',transparent=True)\n",
    "\n",
    "# plt.show()\n",
    "plt.clf()\n"
   ]
  },
  {
   "cell_type": "markdown",
   "metadata": {},
   "source": [
    "## ASPECT"
   ]
  },
  {
   "cell_type": "code",
   "execution_count": null,
   "metadata": {},
   "outputs": [],
   "source": [
    "\n",
    "data = aspect.read()\n",
    "data[data < 0] = np.nan\n",
    "\n",
    "fig, (axrgb, axhist) = plt.subplots(1, 2, figsize=(14,7))\n",
    "# twilight is nice \n",
    "\n",
    "clist = ['#fde8b6', '#cabda2', '#97928d', '#646878', '#313d64', '#313d64', '#646878', '#97928d', '#cabda2', '#fde8b6']\n",
    "CustomCmap = colors.ListedColormap([tuple(hex_to_RGB(i)) for i in clist])\n",
    "\n",
    "cmap = plt.get_cmap(CustomCmap)\n",
    "show(data, transform=dem.transform, ax=axrgb, cmap=cmap)\n",
    "\n",
    "axrgb.set_yticks([])\n",
    "axrgb.set_xticks([])\n",
    "\n",
    "\n",
    "fig.colorbar(cm.ScalarMappable(norm=colors.Normalize(vmin=np.nanmin(data), vmax=np.nanmax(data)), cmap=cmap), ax=axrgb)\n",
    "\n",
    "kwargs = {'facecolor':'Orange'}\n",
    "show_hist(data, bins=50, histtype='stepfilled',density=1,\n",
    "          lw=0.0, stacked=False, alpha=0.3, ax=axhist, **kwargs)\n",
    "axhist.set_yticks(ticks=axhist.get_yticks(), labels=[round(i*100, 2) for i in axhist.get_yticks()])\n",
    "axhist.get_legend().remove()\n",
    "axhist.set_xlabel(\"Aspect (degree)\")\n",
    "axhist.set_ylabel(\"Frequency (%)\")\n",
    "axhist.set_title('')\n",
    "\n",
    "# plt.show()\n",
    "plt.savefig(f'/home/hma000/accomatic-web/plotting/out/dem/{c}aspect.png',transparent=True)\n",
    "plt.clf()\n"
   ]
  },
  {
   "cell_type": "markdown",
   "metadata": {},
   "source": [
    "## TWI"
   ]
  },
  {
   "cell_type": "code",
   "execution_count": null,
   "metadata": {},
   "outputs": [],
   "source": [
    "\n",
    "data = twi.read()\n",
    "data[data < 0] = np.nan\n",
    "\n",
    "fig, (axrgb, axhist) = plt.subplots(1, 2, figsize=(14,7))\n",
    "# twilight is nice \n",
    "\n",
    "show(data, transform=dem.transform, ax=axrgb, cmap='Blues')\n",
    "\n",
    "axrgb.set_yticks([])\n",
    "axrgb.set_xticks([])\n",
    "\n",
    "\n",
    "fig.colorbar(cm.ScalarMappable(norm=colors.Normalize(vmin=np.nanmin(data), vmax=np.nanmax(data)), cmap='Blues'), ax=axrgb)\n",
    "\n",
    "kwargs = {'facecolor':'Blue'}\n",
    "show_hist(data, bins=50, histtype='stepfilled',density=1,\n",
    "          lw=0.0, stacked=False, alpha=0.3, ax=axhist, **kwargs)\n",
    "axhist.set_yticks(ticks=axhist.get_yticks(), labels=[round(i*100, 2) for i in axhist.get_yticks()])\n",
    "axhist.get_legend().remove()\n",
    "axhist.set_xlabel(\"Aspect (degree)\")\n",
    "axhist.set_ylabel(\"Frequency (%)\")\n",
    "axhist.set_title('')\n",
    "\n",
    "plt.show()\n",
    "plt.savefig(f'/home/hma000/accomatic-web/plotting/out/dem/{c}twi.png',transparent=True)\n",
    "plt.clf()\n"
   ]
  },
  {
   "cell_type": "markdown",
   "metadata": {},
   "source": [
    "## CON"
   ]
  },
  {
   "cell_type": "code",
   "execution_count": null,
   "metadata": {},
   "outputs": [],
   "source": [
    "\n",
    "data = con.read()\n",
    "data[data < 0] = np.nan\n",
    "\n",
    "fig, (axrgb, axhist) = plt.subplots(1, 2, figsize=(14,7))\n",
    "# twilight is nice \n",
    "\n",
    "show(data, transform=dem.transform, ax=axrgb, cmap='Greys')\n",
    "\n",
    "scalebar = ScaleBar(0.2) # 1 pixel = 0.2 meter\n",
    "axrgb.add_artist(scalebar)\n",
    "\n",
    "axrgb.set_yticks([])\n",
    "axrgb.set_xticks([])\n",
    "\n",
    "\n",
    "fig.colorbar(cm.ScalarMappable(norm=colors.Normalize(vmin=np.nanmin(data), vmax=np.nanmax(data)), cmap='Greys'), ax=axrgb)\n",
    "\n",
    "kwargs = {'facecolor':'Grey'}\n",
    "show_hist(data, bins=50, histtype='stepfilled',density=1,\n",
    "          lw=0.0, stacked=False, alpha=0.3, ax=axhist, **kwargs)\n",
    "axhist.set_yticks(ticks=axhist.get_yticks(), labels=[round(i*100, 2) for i in axhist.get_yticks()])\n",
    "axhist.get_legend().remove()\n",
    "axhist.set_xlabel(\"Curvature\")\n",
    "axhist.set_ylabel(\"Frequency (%)\")\n",
    "axhist.set_title('')\n",
    "\n",
    "\n",
    "plt.show()\n",
    "plt.savefig(f'/home/hma000/accomatic-web/plotting/out/dem/{c}con.png',transparent=True)\n",
    "plt.clf()"
   ]
  },
  {
   "cell_type": "markdown",
   "metadata": {},
   "source": [
    "## AXES"
   ]
  },
  {
   "cell_type": "code",
   "execution_count": null,
   "metadata": {},
   "outputs": [],
   "source": [
    "\n",
    "from matplotlib.ticker import FormatStrFormatter\n",
    "\n",
    "dem = rasterio.open(f'/home/hma000/storage/terrain_exp/dem_processed/{c}/{c}_dem_10m_clip.tif')\n",
    "ref = rasterio.open(f'/home/hma000/storage/map_making/tif/{c}_dem_2m_clip.wgs84.tif')\n",
    "\n",
    "fig, (axrgb, axhist) = plt.subplots(1, 2, figsize=(14,7))\n",
    "\n",
    "show(dem.read(1), transform=ref.transform, ax=axrgb)\n",
    "\n",
    "axrgb.set_xticks(axrgb.get_xticks()[1:-1:2])\n",
    "axrgb.xaxis.set_major_formatter(FormatStrFormatter('%.2f'))\n",
    "axrgb.yaxis.set_major_formatter(FormatStrFormatter('%.2f'))\n",
    "\n",
    "fig.colorbar(cm.ScalarMappable(norm=colors.Normalize(vmin=np.nanmin(data), vmax=np.nanmax(data)), cmap='Greens'), ax=axrgb)\n",
    "plt.savefig(f'/home/hma000/accomatic-web/plotting/out/dem/{c}axes.png',transparent=True)"
   ]
  }
 ],
 "metadata": {
  "kernelspec": {
   "display_name": "acco",
   "language": "python",
   "name": "python3"
  },
  "language_info": {
   "codemirror_mode": {
    "name": "ipython",
    "version": 3
   },
   "file_extension": ".py",
   "mimetype": "text/x-python",
   "name": "python",
   "nbconvert_exporter": "python",
   "pygments_lexer": "ipython3",
   "version": "3.9.17"
  }
 },
 "nbformat": 4,
 "nbformat_minor": 2
}
